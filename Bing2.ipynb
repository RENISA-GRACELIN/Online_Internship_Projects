{
  "cells": [
    {
      "cell_type": "markdown",
      "metadata": {
        "id": "view-in-github",
        "colab_type": "text"
      },
      "source": [
        "<a href=\"https://colab.research.google.com/github/RENISA-GRACELIN/Online_Internship_Projects/blob/main/Bing2.ipynb\" target=\"_parent\"><img src=\"https://colab.research.google.com/assets/colab-badge.svg\" alt=\"Open In Colab\"/></a>"
      ]
    },
    {
      "cell_type": "code",
      "execution_count": 1,
      "metadata": {
        "id": "uLXINrw5Igij"
      },
      "outputs": [],
      "source": [
        "import tensorflow as tf\n",
        "from tensorflow.keras.preprocessing.image import ImageDataGenerator\n",
        "from tensorflow.keras.models import Sequential\n",
        "from tensorflow.keras.layers import Conv2D, MaxPooling2D, Flatten, Dense, Dropout\n",
        "from tensorflow.keras.optimizers import Adam\n",
        "from sklearn.metrics import confusion_matrix, accuracy_score, recall_score, precision_score, f1_score, roc_auc_score\n",
        "from sklearn.metrics import classification_report"
      ]
    },
    {
      "cell_type": "code",
      "execution_count": 2,
      "metadata": {
        "id": "TN_-K19XIrdg"
      },
      "outputs": [],
      "source": [
        "# Directories\n",
        "train_dir = '/content/drive/MyDrive/DR/Train'\n",
        "valid_dir = '/content/drive/MyDrive/DR/Valid'\n",
        "test_dir = '/content/drive/MyDrive/DR/Test'"
      ]
    },
    {
      "cell_type": "code",
      "execution_count": 3,
      "metadata": {
        "id": "coMJSoMEIuO1",
        "colab": {
          "base_uri": "https://localhost:8080/"
        },
        "outputId": "db22ba6f-ba48-439f-abc1-01c3db604852"
      },
      "outputs": [
        {
          "output_type": "stream",
          "name": "stdout",
          "text": [
            "Found 1753 images belonging to 5 classes.\n",
            "Found 500 images belonging to 5 classes.\n",
            "Found 268 images belonging to 5 classes.\n"
          ]
        }
      ],
      "source": [
        "# Data Loading\n",
        "train_datagen = ImageDataGenerator(rescale=1./255)\n",
        "valid_datagen = ImageDataGenerator(rescale=1./255)\n",
        "test_datagen = ImageDataGenerator(rescale=1./255)\n",
        "\n",
        "train_generator = train_datagen.flow_from_directory(train_dir, target_size=(300,300), batch_size=8, class_mode='categorical')\n",
        "valid_generator = valid_datagen.flow_from_directory(valid_dir, target_size=(300,300), batch_size=8, class_mode='categorical')\n",
        "test_generator = test_datagen.flow_from_directory(test_dir, target_size=(300,300), batch_size=8, class_mode='categorical')\n"
      ]
    },
    {
      "cell_type": "code",
      "execution_count": 4,
      "metadata": {
        "id": "qej9MguFKTws"
      },
      "outputs": [],
      "source": [
        "# Model Creation\n",
        "model = Sequential([\n",
        "    Conv2D(32, (3, 3), activation='relu', input_shape=(300, 300, 3)),\n",
        "    MaxPooling2D((2, 2)),\n",
        "    Conv2D(64, (3, 3), activation='relu'),\n",
        "    MaxPooling2D((2, 2)),\n",
        "    Flatten(),\n",
        "    Dense(128, activation='relu'),\n",
        "    Dropout(0.5),\n",
        "    Dense(5, activation='softmax')  # 5 classes for 5 stages of diabetic retinopathy\n",
        "])\n"
      ]
    },
    {
      "cell_type": "code",
      "execution_count": 5,
      "metadata": {
        "id": "igOKhdTOKUlb"
      },
      "outputs": [],
      "source": [
        "# Model Compilation\n",
        "model.compile(loss='categorical_crossentropy', optimizer=Adam(), metrics=['accuracy'])\n"
      ]
    },
    {
      "cell_type": "code",
      "execution_count": 6,
      "metadata": {
        "id": "hMhNx2lBKX2Z",
        "colab": {
          "base_uri": "https://localhost:8080/"
        },
        "outputId": "7e628eb9-fca3-41bd-dbd3-2ef5e7205959"
      },
      "outputs": [
        {
          "output_type": "stream",
          "name": "stdout",
          "text": [
            "Epoch 1/50\n",
            "220/220 [==============================] - 532s 2s/step - loss: 1.7767 - accuracy: 0.2561 - val_loss: 1.5048 - val_accuracy: 0.2940\n",
            "Epoch 2/50\n",
            "220/220 [==============================] - 407s 2s/step - loss: 1.5156 - accuracy: 0.3023 - val_loss: 1.4996 - val_accuracy: 0.3020\n",
            "Epoch 3/50\n",
            "220/220 [==============================] - 405s 2s/step - loss: 1.4931 - accuracy: 0.3155 - val_loss: 1.4650 - val_accuracy: 0.3120\n",
            "Epoch 4/50\n",
            "220/220 [==============================] - 413s 2s/step - loss: 1.4870 - accuracy: 0.3229 - val_loss: 1.4695 - val_accuracy: 0.3280\n",
            "Epoch 5/50\n",
            "220/220 [==============================] - 431s 2s/step - loss: 1.4437 - accuracy: 0.3617 - val_loss: 1.4475 - val_accuracy: 0.3300\n",
            "Epoch 6/50\n",
            "220/220 [==============================] - 425s 2s/step - loss: 1.4052 - accuracy: 0.3776 - val_loss: 1.4578 - val_accuracy: 0.3560\n",
            "Epoch 7/50\n",
            "220/220 [==============================] - 405s 2s/step - loss: 1.3698 - accuracy: 0.4005 - val_loss: 1.4217 - val_accuracy: 0.3600\n",
            "Epoch 8/50\n",
            "220/220 [==============================] - 400s 2s/step - loss: 1.3306 - accuracy: 0.4193 - val_loss: 1.4927 - val_accuracy: 0.3280\n",
            "Epoch 9/50\n",
            "220/220 [==============================] - 427s 2s/step - loss: 1.3374 - accuracy: 0.4233 - val_loss: 1.4557 - val_accuracy: 0.3600\n",
            "Epoch 10/50\n",
            "220/220 [==============================] - 429s 2s/step - loss: 1.3045 - accuracy: 0.4392 - val_loss: 1.7408 - val_accuracy: 0.3560\n",
            "Epoch 11/50\n",
            "220/220 [==============================] - 416s 2s/step - loss: 1.2673 - accuracy: 0.4592 - val_loss: 1.3392 - val_accuracy: 0.4400\n",
            "Epoch 12/50\n",
            "220/220 [==============================] - 428s 2s/step - loss: 1.2878 - accuracy: 0.4569 - val_loss: 1.4344 - val_accuracy: 0.3800\n",
            "Epoch 13/50\n",
            "220/220 [==============================] - 426s 2s/step - loss: 1.2171 - accuracy: 0.4894 - val_loss: 1.5591 - val_accuracy: 0.4060\n",
            "Epoch 14/50\n",
            "220/220 [==============================] - 398s 2s/step - loss: 1.1830 - accuracy: 0.5054 - val_loss: 1.3794 - val_accuracy: 0.4120\n",
            "Epoch 15/50\n",
            "220/220 [==============================] - 428s 2s/step - loss: 1.1257 - accuracy: 0.5220 - val_loss: 1.4638 - val_accuracy: 0.4100\n",
            "Epoch 16/50\n",
            "220/220 [==============================] - 425s 2s/step - loss: 1.0724 - accuracy: 0.5539 - val_loss: 1.3312 - val_accuracy: 0.4600\n",
            "Epoch 17/50\n",
            "220/220 [==============================] - 432s 2s/step - loss: 1.0553 - accuracy: 0.5687 - val_loss: 1.5498 - val_accuracy: 0.4000\n",
            "Epoch 18/50\n",
            "220/220 [==============================] - 417s 2s/step - loss: 1.0219 - accuracy: 0.5864 - val_loss: 1.4133 - val_accuracy: 0.4440\n",
            "Epoch 19/50\n",
            "220/220 [==============================] - 407s 2s/step - loss: 0.9429 - accuracy: 0.6144 - val_loss: 1.7088 - val_accuracy: 0.3980\n",
            "Epoch 20/50\n",
            "220/220 [==============================] - 431s 2s/step - loss: 0.9237 - accuracy: 0.6246 - val_loss: 1.3928 - val_accuracy: 0.4920\n",
            "Epoch 21/50\n",
            "220/220 [==============================] - 418s 2s/step - loss: 0.8681 - accuracy: 0.6395 - val_loss: 1.4281 - val_accuracy: 0.4860\n",
            "Epoch 22/50\n",
            "220/220 [==============================] - 428s 2s/step - loss: 0.8493 - accuracy: 0.6532 - val_loss: 1.6181 - val_accuracy: 0.4680\n",
            "Epoch 23/50\n",
            "220/220 [==============================] - 426s 2s/step - loss: 0.7791 - accuracy: 0.6880 - val_loss: 1.5224 - val_accuracy: 0.5040\n",
            "Epoch 24/50\n",
            "220/220 [==============================] - 417s 2s/step - loss: 0.8264 - accuracy: 0.6714 - val_loss: 1.6056 - val_accuracy: 0.4780\n",
            "Epoch 25/50\n",
            "220/220 [==============================] - 410s 2s/step - loss: 0.7370 - accuracy: 0.7165 - val_loss: 1.6906 - val_accuracy: 0.4860\n",
            "Epoch 26/50\n",
            "220/220 [==============================] - 410s 2s/step - loss: 0.6845 - accuracy: 0.7353 - val_loss: 1.8831 - val_accuracy: 0.5080\n",
            "Epoch 27/50\n",
            "220/220 [==============================] - 428s 2s/step - loss: 0.6417 - accuracy: 0.7433 - val_loss: 1.7731 - val_accuracy: 0.5040\n",
            "Epoch 28/50\n",
            "220/220 [==============================] - 403s 2s/step - loss: 0.6427 - accuracy: 0.7490 - val_loss: 1.7384 - val_accuracy: 0.5140\n",
            "Epoch 29/50\n",
            "220/220 [==============================] - 430s 2s/step - loss: 0.5387 - accuracy: 0.7895 - val_loss: 2.0318 - val_accuracy: 0.5100\n",
            "Epoch 30/50\n",
            "220/220 [==============================] - 428s 2s/step - loss: 0.5183 - accuracy: 0.8049 - val_loss: 2.1430 - val_accuracy: 0.5000\n",
            "Epoch 31/50\n",
            "220/220 [==============================] - 414s 2s/step - loss: 0.5300 - accuracy: 0.8043 - val_loss: 2.1588 - val_accuracy: 0.5160\n",
            "Epoch 32/50\n",
            "220/220 [==============================] - 414s 2s/step - loss: 0.4550 - accuracy: 0.8351 - val_loss: 2.0588 - val_accuracy: 0.5000\n",
            "Epoch 33/50\n",
            "220/220 [==============================] - 415s 2s/step - loss: 0.4810 - accuracy: 0.8197 - val_loss: 2.1821 - val_accuracy: 0.4980\n",
            "Epoch 34/50\n",
            "220/220 [==============================] - 399s 2s/step - loss: 0.4282 - accuracy: 0.8500 - val_loss: 2.1892 - val_accuracy: 0.5300\n",
            "Epoch 35/50\n",
            "220/220 [==============================] - 397s 2s/step - loss: 0.3501 - accuracy: 0.8756 - val_loss: 2.4318 - val_accuracy: 0.5100\n",
            "Epoch 36/50\n",
            "220/220 [==============================] - 414s 2s/step - loss: 0.3172 - accuracy: 0.8716 - val_loss: 2.5557 - val_accuracy: 0.5480\n",
            "Epoch 37/50\n",
            "220/220 [==============================] - 418s 2s/step - loss: 0.2487 - accuracy: 0.9042 - val_loss: 2.6402 - val_accuracy: 0.5180\n",
            "Epoch 38/50\n",
            "220/220 [==============================] - 415s 2s/step - loss: 0.2498 - accuracy: 0.9122 - val_loss: 2.4509 - val_accuracy: 0.5440\n",
            "Epoch 39/50\n",
            "220/220 [==============================] - 396s 2s/step - loss: 0.2255 - accuracy: 0.9184 - val_loss: 2.8027 - val_accuracy: 0.5340\n",
            "Epoch 40/50\n",
            "220/220 [==============================] - 414s 2s/step - loss: 0.2871 - accuracy: 0.9025 - val_loss: 3.1569 - val_accuracy: 0.4340\n",
            "Epoch 41/50\n",
            "220/220 [==============================] - 415s 2s/step - loss: 0.2333 - accuracy: 0.9196 - val_loss: 2.6800 - val_accuracy: 0.5160\n",
            "Epoch 42/50\n",
            "220/220 [==============================] - 417s 2s/step - loss: 0.1831 - accuracy: 0.9390 - val_loss: 2.6846 - val_accuracy: 0.5060\n",
            "Epoch 43/50\n",
            "220/220 [==============================] - 416s 2s/step - loss: 0.1473 - accuracy: 0.9441 - val_loss: 3.0544 - val_accuracy: 0.5360\n",
            "Epoch 44/50\n",
            "220/220 [==============================] - 394s 2s/step - loss: 0.1738 - accuracy: 0.9412 - val_loss: 3.2647 - val_accuracy: 0.4920\n",
            "Epoch 45/50\n",
            "220/220 [==============================] - 418s 2s/step - loss: 0.1779 - accuracy: 0.9395 - val_loss: 3.1775 - val_accuracy: 0.5280\n",
            "Epoch 46/50\n",
            "220/220 [==============================] - 404s 2s/step - loss: 0.1224 - accuracy: 0.9669 - val_loss: 3.0574 - val_accuracy: 0.5180\n",
            "Epoch 47/50\n",
            "220/220 [==============================] - 403s 2s/step - loss: 0.1251 - accuracy: 0.9612 - val_loss: 3.7088 - val_accuracy: 0.5200\n",
            "Epoch 48/50\n",
            "220/220 [==============================] - 419s 2s/step - loss: 0.1497 - accuracy: 0.9601 - val_loss: 2.6608 - val_accuracy: 0.5080\n",
            "Epoch 49/50\n",
            "220/220 [==============================] - 402s 2s/step - loss: 0.1493 - accuracy: 0.9475 - val_loss: 3.5196 - val_accuracy: 0.5340\n",
            "Epoch 50/50\n",
            "220/220 [==============================] - 415s 2s/step - loss: 0.1267 - accuracy: 0.9606 - val_loss: 3.6562 - val_accuracy: 0.5160\n"
          ]
        },
        {
          "output_type": "execute_result",
          "data": {
            "text/plain": [
              "<keras.src.callbacks.History at 0x7a9091edf3d0>"
            ]
          },
          "metadata": {},
          "execution_count": 6
        }
      ],
      "source": [
        "# Model Training\n",
        "model.fit(train_generator, epochs=50, validation_data=valid_generator)\n"
      ]
    },
    {
      "cell_type": "code",
      "execution_count": 12,
      "metadata": {
        "id": "6h2uLKB3Kb7i",
        "colab": {
          "base_uri": "https://localhost:8080/"
        },
        "outputId": "928ffa06-d20c-46a4-f45c-9cd2821407f9"
      },
      "outputs": [
        {
          "output_type": "stream",
          "name": "stdout",
          "text": [
            "34/34 [==============================] - 19s 547ms/step - loss: 3.6677 - accuracy: 0.4776\n",
            "Test accuracy: 0.4776119291782379\n"
          ]
        }
      ],
      "source": [
        "# Model Evaluation\n",
        "test_loss, test_acc = model.evaluate(test_generator)\n",
        "print(f'Test accuracy: {test_acc}')\n"
      ]
    },
    {
      "cell_type": "code",
      "execution_count": null,
      "metadata": {
        "id": "V5Yx9xzCMnTl"
      },
      "outputs": [],
      "source": [
        "import numpy as np"
      ]
    },
    {
      "cell_type": "code",
      "execution_count": 9,
      "metadata": {
        "id": "sTHzI00nKyJ4",
        "colab": {
          "base_uri": "https://localhost:8080/"
        },
        "outputId": "68ca4ef4-8684-433f-82ce-940285182ce0"
      },
      "outputs": [
        {
          "output_type": "stream",
          "name": "stdout",
          "text": [
            "34/34 [==============================] - 13s 360ms/step\n"
          ]
        }
      ],
      "source": [
        "# Performance Metrics Calculation\n",
        "y_true = test_generator.classes\n",
        "y_pred = model.predict(test_generator)\n",
        "y_pred = [np.argmax(p) for p in y_pred]\n"
      ]
    },
    {
      "cell_type": "code",
      "execution_count": 10,
      "metadata": {
        "id": "qYxx9_9jK2fw",
        "colab": {
          "base_uri": "https://localhost:8080/"
        },
        "outputId": "22fc2d24-fa92-4d02-cbd9-6147012847ac"
      },
      "outputs": [
        {
          "output_type": "stream",
          "name": "stdout",
          "text": [
            "Confusion Matrix:\n",
            "[[ 8 10 11 14  7]\n",
            " [ 6 10 19 17 16]\n",
            " [ 6 13 13  7 11]\n",
            " [ 8  9 13 10 10]\n",
            " [ 5 13  7 14 11]]\n",
            "Classification Report:\n",
            "              precision    recall  f1-score   support\n",
            "\n",
            "     Stage 0       0.24      0.16      0.19        50\n",
            "     Stage 1       0.18      0.15      0.16        68\n",
            "     Stage 2       0.21      0.26      0.23        50\n",
            "     Stage 3       0.16      0.20      0.18        50\n",
            "     Stage 4       0.20      0.22      0.21        50\n",
            "\n",
            "    accuracy                           0.19       268\n",
            "   macro avg       0.20      0.20      0.19       268\n",
            "weighted avg       0.20      0.19      0.19       268\n",
            "\n"
          ]
        }
      ],
      "source": [
        "print('Confusion Matrix:')\n",
        "print(confusion_matrix(y_true, y_pred))\n",
        "print('Classification Report:')\n",
        "print(classification_report(y_true, y_pred, target_names=['Stage 0', 'Stage 1', 'Stage 2', 'Stage 3', 'Stage 4']))"
      ]
    },
    {
      "cell_type": "code",
      "execution_count": 11,
      "metadata": {
        "id": "Q9fGG_NgNL_j",
        "colab": {
          "base_uri": "https://localhost:8080/",
          "height": 582
        },
        "outputId": "df0475b4-ec27-4ca8-82ee-11f544421cb9"
      },
      "outputs": [
        {
          "metadata": {
            "tags": null
          },
          "name": "stdout",
          "output_type": "stream",
          "text": [
            "63/63 [==============================] - 23s 364ms/step\n"
          ]
        },
        {
          "data": {
            "image/png": "[encoded data removed]",
            "text/plain": [
              "<Figure size 800x600 with 2 Axes>"
            ]
          },
          "metadata": {},
          "output_type": "display_data"
        }
      ],
      "source": [
        "import matplotlib.pyplot as plt\n",
        "import seaborn as sns\n",
        "\n",
        "# Define function to plot confusion matrix\n",
        "def plot_confusion_matrix(conf_matrix, labels):\n",
        "    plt.figure(figsize=(8, 6))\n",
        "    sns.heatmap(conf_matrix, annot=True, cmap='Blues', fmt='g', xticklabels=labels, yticklabels=labels)\n",
        "    plt.xlabel('Predicted labels')\n",
        "    plt.ylabel('True labels')\n",
        "    plt.title('Confusion Matrix')\n",
        "    plt.show()\n",
        "\n",
        "# Generate predictions from the deep learning model\n",
        "dl_predictions = model.predict(valid_generator)\n",
        "dl_predictions_classes = np.argmax(dl_predictions, axis=1)\n",
        "\n",
        "# Plot confusion matrix for Deep Learning Model\n",
        "dl_conf_matrix = confusion_matrix(valid_generator.classes, dl_predictions_classes)\n",
        "plot_confusion_matrix(dl_conf_matrix, valid_generator.class_indices.keys())\n"
      ]
    }
  ],
  "metadata": {
    "colab": {
      "provenance": [],
      "mount_file_id": "1Y3SAwonB10ZYy-cgk7WT6YYrFVVSjA3L",
      "authorship_tag": "ABX9TyMEfMH8N6URkn+ixdsO21im",
      "include_colab_link": true
    },
    "kernelspec": {
      "display_name": "Python 3",
      "name": "python3"
    },
    "language_info": {
      "name": "python"
    }
  },
  "nbformat": 4,
  "nbformat_minor": 0
}