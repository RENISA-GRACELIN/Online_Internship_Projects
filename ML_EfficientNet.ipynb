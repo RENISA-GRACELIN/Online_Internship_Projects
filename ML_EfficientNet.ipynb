{
  "nbformat": 4,
  "nbformat_minor": 0,
  "metadata": {
    "colab": {
      "provenance": [],
      "authorship_tag": "ABX9TyOpRDZBpVDm7RWwGBPBvWcW",
      "include_colab_link": true
    },
    "kernelspec": {
      "name": "python3",
      "display_name": "Python 3"
    },
    "language_info": {
      "name": "python"
    }
  },
  "cells": [
    {
      "cell_type": "markdown",
      "metadata": {
        "id": "view-in-github",
        "colab_type": "text"
      },
      "source": [
        "<a href=\"https://colab.research.google.com/github/RENISA-GRACELIN/Online_Internship_Projects/blob/main/ML_EfficientNet.ipynb\" target=\"_parent\"><img src=\"https://colab.research.google.com/assets/colab-badge.svg\" alt=\"Open In Colab\"/></a>"
      ]
    },
    {
      "cell_type": "markdown",
      "source": [
        "# **Import Libraries**"
      ],
      "metadata": {
        "id": "fOm4UeIYcAwz"
      }
    },
    {
      "cell_type": "code",
      "source": [
        "import os\n",
        "import numpy as np\n",
        "import matplotlib.pyplot as plt\n",
        "import tensorflow as tf\n",
        "from tensorflow.keras.preprocessing.image import ImageDataGenerator\n",
        "from tensorflow.keras.applications import EfficientNetB0\n",
        "from tensorflow.keras.layers import Dense, GlobalAveragePooling2D, Dropout, Flatten, Attention, Layer\n",
        "from tensorflow.keras.optimizers import Adam\n",
        "from tensorflow.keras.models import Sequential\n",
        "from sklearn.metrics import classification_report, confusion_matrix, precision_score, recall_score, accuracy_score, f1_score\n",
        "from sklearn.svm import SVC\n",
        "from sklearn.neighbors import KNeighborsClassifier\n",
        "import seaborn as sns\n"
      ],
      "metadata": {
        "id": "5uq4-4xw9jwu"
      },
      "execution_count": 1,
      "outputs": []
    },
    {
      "cell_type": "markdown",
      "source": [
        "# **Define Path**"
      ],
      "metadata": {
        "id": "O1L1zNEScFtP"
      }
    },
    {
      "cell_type": "code",
      "source": [
        "from google.colab import drive\n",
        "drive.mount('/content/drive')\n",
        "\n",
        "train_dir = '/content/drive/MyDrive/DR/Train'\n",
        "test_dir = '/content/drive/MyDrive/DR/Test'\n",
        "valid_dir = '/content/drive/MyDrive/DR/Valid'"
      ],
      "metadata": {
        "colab": {
          "base_uri": "https://localhost:8080/"
        },
        "id": "cNqI9iw_bgVP",
        "outputId": "f5a90496-99d1-4ca1-af28-0b862abbafc1"
      },
      "execution_count": 2,
      "outputs": [
        {
          "output_type": "stream",
          "name": "stdout",
          "text": [
            "Drive already mounted at /content/drive; to attempt to forcibly remount, call drive.mount(\"/content/drive\", force_remount=True).\n"
          ]
        }
      ]
    },
    {
      "cell_type": "markdown",
      "source": [
        "# **Image Augmentation**"
      ],
      "metadata": {
        "id": "JoJZoTJXcKGm"
      }
    },
    {
      "cell_type": "code",
      "source": [
        "train_datagen = ImageDataGenerator(\n",
        "    horizontal_flip=True,\n",
        "    vertical_flip=True,\n",
        "    zoom_range=0.2,\n",
        "    brightness_range=[0.2, 1.0]\n",
        ")\n",
        "\n",
        "test_datagen = ImageDataGenerator(rescale=1./255)"
      ],
      "metadata": {
        "id": "2dUMMKBCcp32"
      },
      "execution_count": 3,
      "outputs": []
    },
    {
      "cell_type": "code",
      "source": [
        "train_set = train_datagen.flow_from_directory(\n",
        "    train_dir,\n",
        "    target_size=(224, 224),\n",
        "    batch_size=32,\n",
        "    class_mode='categorical'\n",
        ")\n",
        "\n",
        "valid_set = test_datagen.flow_from_directory(\n",
        "    valid_dir,\n",
        "    target_size=(224, 224),\n",
        "    batch_size=32,\n",
        "    class_mode='categorical'\n",
        ")\n",
        "\n",
        "test_set = test_datagen.flow_from_directory(\n",
        "    test_dir,\n",
        "    target_size=(224, 224),\n",
        "    batch_size=32,\n",
        "    class_mode='categorical',\n",
        "    shuffle=False\n",
        ")"
      ],
      "metadata": {
        "colab": {
          "base_uri": "https://localhost:8080/"
        },
        "id": "lZgu73tjgIQF",
        "outputId": "b7176034-cbf9-46ae-fa3f-a02b36afd15a"
      },
      "execution_count": 4,
      "outputs": [
        {
          "output_type": "stream",
          "name": "stdout",
          "text": [
            "Found 1750 images belonging to 5 classes.\n",
            "Found 500 images belonging to 5 classes.\n",
            "Found 250 images belonging to 5 classes.\n"
          ]
        }
      ]
    },
    {
      "cell_type": "markdown",
      "source": [
        "# **Pre-Trained Building**"
      ],
      "metadata": {
        "id": "IVub2utdkuFZ"
      }
    },
    {
      "cell_type": "code",
      "source": [
        "base_model = EfficientNetB0(weights='imagenet', include_top=False, input_shape=(224, 224, 3))\n"
      ],
      "metadata": {
        "id": "Fw6z-r4iMOeu"
      },
      "execution_count": 5,
      "outputs": []
    },
    {
      "cell_type": "markdown",
      "source": [
        "# **Feature Extraction**"
      ],
      "metadata": {
        "id": "YNH8wMBfMZdE"
      }
    },
    {
      "cell_type": "code",
      "source": [
        "feature_extractor = tf.keras.Model(\n",
        "    inputs=base_model.input,\n",
        "    outputs=base_model.output\n",
        ")\n",
        "\n",
        "train_features = feature_extractor.predict(train_set)\n",
        "valid_features = feature_extractor.predict(valid_set)\n",
        "test_features = feature_extractor.predict(test_set)\n",
        "\n",
        "# Flatten extracted features\n",
        "train_features_flat = train_features.reshape(train_features.shape[0], -1)\n",
        "valid_features_flat = valid_features.reshape(valid_features.shape[0], -1)\n",
        "test_features_flat = test_features.reshape(test_features.shape[0], -1)\n",
        "\n",
        "# Get the labels\n",
        "train_labels = train_set.classes\n",
        "valid_labels = valid_set.classes\n",
        "test_labels = test_set.classes"
      ],
      "metadata": {
        "colab": {
          "base_uri": "https://localhost:8080/"
        },
        "id": "MuOb3h5OMdZA",
        "outputId": "7fef6ba7-60c2-4372-ecfe-b14744e92504"
      },
      "execution_count": 6,
      "outputs": [
        {
          "output_type": "stream",
          "name": "stdout",
          "text": [
            "55/55 [==============================] - 181s 3s/step\n",
            "16/16 [==============================] - 42s 3s/step\n",
            "8/8 [==============================] - 22s 3s/step\n"
          ]
        }
      ]
    },
    {
      "cell_type": "markdown",
      "source": [
        "# **ML Classifier**"
      ],
      "metadata": {
        "id": "sIYR-YOQMr0G"
      }
    },
    {
      "cell_type": "code",
      "source": [
        "# SVM\n",
        "svm_classifier = SVC()\n",
        "svm_classifier.fit(train_features_flat, train_labels)\n",
        "svm_predictions = svm_classifier.predict(test_features_flat)\n",
        "\n",
        "# KNN\n",
        "knn_classifier = KNeighborsClassifier(n_neighbors=3)\n",
        "knn_classifier.fit(train_features_flat, train_labels)\n",
        "knn_predictions = knn_classifier.predict(test_features_flat)"
      ],
      "metadata": {
        "id": "4TX3yQo8Mugm"
      },
      "execution_count": 7,
      "outputs": []
    },
    {
      "cell_type": "markdown",
      "source": [
        "# **Define Attention Mechanism**"
      ],
      "metadata": {
        "id": "4Qqu0zbDMz_U"
      }
    },
    {
      "cell_type": "code",
      "source": [
        "class AttentionLayer(Layer):\n",
        "    def __init__(self, **kwargs):\n",
        "        super(AttentionLayer, self).__init__(**kwargs)\n",
        "\n",
        "    def build(self, input_shape):\n",
        "        self.W = self.add_weight(name=\"att_weight\", shape=(input_shape[-1], 1), initializer=\"normal\")\n",
        "        self.b = self.add_weight(name=\"att_bias\", shape=(input_shape[1], 1), initializer=\"zeros\")\n",
        "        super(AttentionLayer, self).build(input_shape)\n",
        "\n",
        "    def call(self, x):\n",
        "        et = tf.squeeze(tf.tanh(tf.matmul(x, self.W) + self.b), axis=-1)\n",
        "        at = tf.nn.softmax(et)\n",
        "        at = tf.expand_dims(at, axis=-1)\n",
        "        output = x * at\n",
        "        output = tf.reduce_sum(output, axis=1)\n",
        "        return output\n",
        "\n",
        "    def compute_output_shape(self, input_shape):\n",
        "        return (input_shape[0], input_shape[-1])\n"
      ],
      "metadata": {
        "id": "ELqn4tlaM331"
      },
      "execution_count": 8,
      "outputs": []
    },
    {
      "cell_type": "markdown",
      "source": [
        "# **Attention Layer**"
      ],
      "metadata": {
        "id": "FTzY5j4ZM7nO"
      }
    },
    {
      "cell_type": "code",
      "source": [
        "attention_model = Sequential()\n",
        "attention_model.add(base_model)\n",
        "attention_model.add(AttentionLayer())\n",
        "attention_model.add(Flatten())\n",
        "attention_model.add(Dense(512, activation='relu'))\n",
        "attention_model.add(Dropout(0.5))\n",
        "attention_model.add(Dense(5, activation='softmax'))"
      ],
      "metadata": {
        "id": "qfrU2cJ3NCXe"
      },
      "execution_count": 9,
      "outputs": []
    },
    {
      "cell_type": "markdown",
      "source": [
        "# **Optimizer and Compiler**"
      ],
      "metadata": {
        "id": "kCqz5m-PNM3M"
      }
    },
    {
      "cell_type": "code",
      "source": [
        "optimizer = Adam(lr=0.0001)\n",
        "attention_model.compile(optimizer=optimizer, loss='categorical_crossentropy', metrics=['accuracy'])\n"
      ],
      "metadata": {
        "colab": {
          "base_uri": "https://localhost:8080/"
        },
        "id": "tDlVvkMSNPEA",
        "outputId": "5e237895-722c-4a6d-e0c9-26a9f87a915a"
      },
      "execution_count": 10,
      "outputs": [
        {
          "output_type": "stream",
          "name": "stderr",
          "text": [
            "WARNING:absl:`lr` is deprecated in Keras optimizer, please use `learning_rate` or use the legacy optimizer, e.g.,tf.keras.optimizers.legacy.Adam.\n"
          ]
        }
      ]
    },
    {
      "cell_type": "markdown",
      "source": [
        "# **About the model**"
      ],
      "metadata": {
        "id": "BOfvZpB_lWor"
      }
    },
    {
      "cell_type": "code",
      "source": [
        "attention_model.summary()"
      ],
      "metadata": {
        "colab": {
          "base_uri": "https://localhost:8080/"
        },
        "id": "khFZQAkalXPS",
        "outputId": "755e82fb-4719-449f-83f0-6bebba5393ce"
      },
      "execution_count": 11,
      "outputs": [
        {
          "output_type": "stream",
          "name": "stdout",
          "text": [
            "Model: \"sequential\"\n",
            "_________________________________________________________________\n",
            " Layer (type)                Output Shape              Param #   \n",
            "=================================================================\n",
            " efficientnetb0 (Functional  (None, 7, 7, 1280)        4049571   \n",
            " )                                                               \n",
            "                                                                 \n",
            " attention_layer (Attention  (None, 7, 1280)           1287      \n",
            " Layer)                                                          \n",
            "                                                                 \n",
            " flatten (Flatten)           (None, 8960)              0         \n",
            "                                                                 \n",
            " dense (Dense)               (None, 512)               4588032   \n",
            "                                                                 \n",
            " dropout (Dropout)           (None, 512)               0         \n",
            "                                                                 \n",
            " dense_1 (Dense)             (None, 5)                 2565      \n",
            "                                                                 \n",
            "=================================================================\n",
            "Total params: 8641455 (32.96 MB)\n",
            "Trainable params: 8599432 (32.80 MB)\n",
            "Non-trainable params: 42023 (164.16 KB)\n",
            "_________________________________________________________________\n"
          ]
        }
      ]
    },
    {
      "cell_type": "markdown",
      "source": [
        "# **Train the model**"
      ],
      "metadata": {
        "id": "UHtrREhglm49"
      }
    },
    {
      "cell_type": "code",
      "source": [
        "history = attention_model.fit(train_set, validation_data=valid_set, epochs=10, batch_size=8)\n"
      ],
      "metadata": {
        "colab": {
          "base_uri": "https://localhost:8080/"
        },
        "id": "Xp2__vwjlpNh",
        "outputId": "e4e42e16-344c-44e2-c3a6-4c61c62c09f7"
      },
      "execution_count": 13,
      "outputs": [
        {
          "output_type": "stream",
          "name": "stdout",
          "text": [
            "Epoch 1/10\n",
            "55/55 [==============================] - 654s 11s/step - loss: 1.3766 - accuracy: 0.4743 - val_loss: 11.3088 - val_accuracy: 0.2000\n",
            "Epoch 2/10\n",
            "55/55 [==============================] - 612s 11s/step - loss: 0.8771 - accuracy: 0.6269 - val_loss: 6.1481 - val_accuracy: 0.2000\n",
            "Epoch 3/10\n",
            "55/55 [==============================] - 618s 11s/step - loss: 0.7171 - accuracy: 0.6903 - val_loss: 8.1877 - val_accuracy: 0.2000\n",
            "Epoch 4/10\n",
            "55/55 [==============================] - 615s 11s/step - loss: 0.7363 - accuracy: 0.6977 - val_loss: 3.6174 - val_accuracy: 0.2000\n",
            "Epoch 5/10\n",
            "55/55 [==============================] - 580s 11s/step - loss: 0.6474 - accuracy: 0.7360 - val_loss: 8.9321 - val_accuracy: 0.2000\n",
            "Epoch 6/10\n",
            "55/55 [==============================] - 575s 10s/step - loss: 0.6830 - accuracy: 0.7297 - val_loss: 24.7215 - val_accuracy: 0.2000\n",
            "Epoch 7/10\n",
            "55/55 [==============================] - 590s 11s/step - loss: 0.5464 - accuracy: 0.7703 - val_loss: 9.1258 - val_accuracy: 0.2000\n",
            "Epoch 8/10\n",
            "55/55 [==============================] - 607s 11s/step - loss: 0.5370 - accuracy: 0.7703 - val_loss: 1.6488 - val_accuracy: 0.2000\n",
            "Epoch 9/10\n",
            "55/55 [==============================] - 592s 11s/step - loss: 0.5568 - accuracy: 0.7749 - val_loss: 1.8395 - val_accuracy: 0.2000\n",
            "Epoch 10/10\n",
            "55/55 [==============================] - 590s 11s/step - loss: 0.4671 - accuracy: 0.8154 - val_loss: 8.0518 - val_accuracy: 0.2000\n"
          ]
        }
      ]
    },
    {
      "cell_type": "markdown",
      "source": [
        "# **Save the model**"
      ],
      "metadata": {
        "id": "OynPe-g4qBcE"
      }
    },
    {
      "cell_type": "code",
      "source": [
        "attention_model.save(\"newmodel_ml.h5\")"
      ],
      "metadata": {
        "colab": {
          "base_uri": "https://localhost:8080/"
        },
        "id": "ksuWDoKbqFJr",
        "outputId": "fd5bfea4-1b40-4f1d-cd9a-6619cc8b8081"
      },
      "execution_count": 15,
      "outputs": [
        {
          "output_type": "stream",
          "name": "stderr",
          "text": [
            "/usr/local/lib/python3.10/dist-packages/keras/src/engine/training.py:3103: UserWarning: You are saving your model as an HDF5 file via `model.save()`. This file format is considered legacy. We recommend using instead the native Keras format, e.g. `model.save('my_model.keras')`.\n",
            "  saving_api.save_model(\n"
          ]
        }
      ]
    },
    {
      "cell_type": "markdown",
      "source": [
        "# **Performance metrics**"
      ],
      "metadata": {
        "id": "evVTeAuwqd_W"
      }
    },
    {
      "cell_type": "code",
      "source": [
        "y_pred = attention_model.predict(test_set)\n",
        "y_pred = np.argmax(y_pred, axis=1)"
      ],
      "metadata": {
        "colab": {
          "base_uri": "https://localhost:8080/"
        },
        "id": "sooK5zQUqgZ3",
        "outputId": "137bbf4b-f737-4e0b-cd24-421f39b6759c"
      },
      "execution_count": 16,
      "outputs": [
        {
          "output_type": "stream",
          "name": "stdout",
          "text": [
            "8/8 [==============================] - 20s 2s/step\n"
          ]
        }
      ]
    },
    {
      "cell_type": "code",
      "source": [
        "# Compute confusion matrix\n",
        "cm = confusion_matrix(test_set.classes, y_pred)\n",
        "print('Confusion Matrix:')\n",
        "print(cm)"
      ],
      "metadata": {
        "id": "6Bxm36VPq6aT",
        "colab": {
          "base_uri": "https://localhost:8080/"
        },
        "outputId": "313813ab-e9e4-463b-c211-b412ee44147b"
      },
      "execution_count": 17,
      "outputs": [
        {
          "output_type": "stream",
          "name": "stdout",
          "text": [
            "Confusion Matrix:\n",
            "[[ 0  0  0 50  0]\n",
            " [ 0  0  0 50  0]\n",
            " [ 0  0  0 50  0]\n",
            " [ 0  0  0 50  0]\n",
            " [ 0  0  0 50  0]]\n"
          ]
        }
      ]
    },
    {
      "cell_type": "code",
      "source": [
        "fig, ax = plt.subplots(figsize=(6, 6))\n",
        "sns.heatmap(cm, annot=True, cmap=\"Reds\", fmt=\"d\",\n",
        "            xticklabels=train_set.class_indices.keys(),\n",
        "            yticklabels=train_set.class_indices.keys(), ax=ax)\n",
        "ax.set_xlabel('Predicted labels')\n",
        "ax.set_ylabel('True labels')\n",
        "ax.set_title('Confusion Matrix')"
      ],
      "metadata": {
        "colab": {
          "base_uri": "https://localhost:8080/",
          "height": 582
        },
        "id": "Ws3oZ6zIPz8C",
        "outputId": "9c1f6773-2e12-427e-d029-b9a692d488cb"
      },
      "execution_count": 20,
      "outputs": [
        {
          "output_type": "execute_result",
          "data": {
            "text/plain": [
              "Text(0.5, 1.0, 'Confusion Matrix')"
            ]
          },
          "metadata": {},
          "execution_count": 20
        },
        {
          "output_type": "display_data",
          "data": {
            "text/plain": [
              "<Figure size 600x600 with 2 Axes>"
            ],
            "image/png": "[encoded data removed]"
          },
          "metadata": {}
        }
      ]
    },
    {
      "cell_type": "code",
      "source": [
        "# Compute classification report\n",
        "class_name = train_set.class_indices\n",
        "print(class_name)\n",
        "report = classification_report(test_set.classes, y_pred, target_names=class_name)\n",
        "print('Classification Report:')\n",
        "print(report)"
      ],
      "metadata": {
        "colab": {
          "base_uri": "https://localhost:8080/"
        },
        "id": "rNiqmO6rrO60",
        "outputId": "587de73a-c96c-40a4-beaf-cc0c3880ab66"
      },
      "execution_count": 25,
      "outputs": [
        {
          "output_type": "stream",
          "name": "stdout",
          "text": [
            "{'0': 0, '1': 1, '2': 2, '3': 3, '4': 4}\n",
            "Classification Report:\n",
            "              precision    recall  f1-score   support\n",
            "\n",
            "           0       0.00      0.00      0.00        50\n",
            "           1       0.00      0.00      0.00        50\n",
            "           2       0.00      0.00      0.00        50\n",
            "           3       0.20      1.00      0.33        50\n",
            "           4       0.00      0.00      0.00        50\n",
            "\n",
            "    accuracy                           0.20       250\n",
            "   macro avg       0.04      0.20      0.07       250\n",
            "weighted avg       0.04      0.20      0.07       250\n",
            "\n"
          ]
        },
        {
          "output_type": "stream",
          "name": "stderr",
          "text": [
            "/usr/local/lib/python3.10/dist-packages/sklearn/metrics/_classification.py:1344: UndefinedMetricWarning: Precision and F-score are ill-defined and being set to 0.0 in labels with no predicted samples. Use `zero_division` parameter to control this behavior.\n",
            "  _warn_prf(average, modifier, msg_start, len(result))\n",
            "/usr/local/lib/python3.10/dist-packages/sklearn/metrics/_classification.py:1344: UndefinedMetricWarning: Precision and F-score are ill-defined and being set to 0.0 in labels with no predicted samples. Use `zero_division` parameter to control this behavior.\n",
            "  _warn_prf(average, modifier, msg_start, len(result))\n",
            "/usr/local/lib/python3.10/dist-packages/sklearn/metrics/_classification.py:1344: UndefinedMetricWarning: Precision and F-score are ill-defined and being set to 0.0 in labels with no predicted samples. Use `zero_division` parameter to control this behavior.\n",
            "  _warn_prf(average, modifier, msg_start, len(result))\n"
          ]
        }
      ]
    },
    {
      "cell_type": "code",
      "source": [
        "precision = precision_score(test_set.classes, y_pred, average='macro')\n",
        "recall = recall_score(test_set.classes, y_pred, average='macro')\n",
        "accuracy = accuracy_score(test_set.classes, y_pred)\n",
        "f1 = f1_score(test_set.classes, y_pred, average='macro')\n",
        "print('Precision:', precision)\n",
        "print('Recall:', recall)\n",
        "print('Accuracy:', accuracy)\n",
        "print('F1 Score:', f1)"
      ],
      "metadata": {
        "colab": {
          "base_uri": "https://localhost:8080/"
        },
        "id": "wYt3JBiGss63",
        "outputId": "9d9b13cf-9a7e-4465-9001-b90e82630374"
      },
      "execution_count": 26,
      "outputs": [
        {
          "output_type": "stream",
          "name": "stdout",
          "text": [
            "Precision: 0.04\n",
            "Recall: 0.2\n",
            "Accuracy: 0.2\n",
            "F1 Score: 0.06666666666666668\n"
          ]
        },
        {
          "output_type": "stream",
          "name": "stderr",
          "text": [
            "/usr/local/lib/python3.10/dist-packages/sklearn/metrics/_classification.py:1344: UndefinedMetricWarning: Precision is ill-defined and being set to 0.0 in labels with no predicted samples. Use `zero_division` parameter to control this behavior.\n",
            "  _warn_prf(average, modifier, msg_start, len(result))\n"
          ]
        }
      ]
    },
    {
      "cell_type": "code",
      "source": [
        "# SVM and KNN Classification Report\n",
        "print('SVM Classification Report:')\n",
        "print(classification_report(test_labels, svm_predictions))\n",
        "\n",
        "print('KNN Classification Report:')\n",
        "print(classification_report(test_labels, knn_predictions))"
      ],
      "metadata": {
        "colab": {
          "base_uri": "https://localhost:8080/"
        },
        "id": "a68yrnY-QKYQ",
        "outputId": "80ad7dc2-4e80-4ec1-addc-ea7922e24339"
      },
      "execution_count": 27,
      "outputs": [
        {
          "output_type": "stream",
          "name": "stdout",
          "text": [
            "SVM Classification Report:\n",
            "              precision    recall  f1-score   support\n",
            "\n",
            "           0       0.00      0.00      0.00        50\n",
            "           1       0.20      1.00      0.33        50\n",
            "           2       0.00      0.00      0.00        50\n",
            "           3       0.00      0.00      0.00        50\n",
            "           4       0.00      0.00      0.00        50\n",
            "\n",
            "    accuracy                           0.20       250\n",
            "   macro avg       0.04      0.20      0.07       250\n",
            "weighted avg       0.04      0.20      0.07       250\n",
            "\n",
            "KNN Classification Report:\n",
            "              precision    recall  f1-score   support\n",
            "\n",
            "           0       0.00      0.00      0.00        50\n",
            "           1       0.00      0.00      0.00        50\n",
            "           2       0.00      0.00      0.00        50\n",
            "           3       0.20      1.00      0.33        50\n",
            "           4       0.00      0.00      0.00        50\n",
            "\n",
            "    accuracy                           0.20       250\n",
            "   macro avg       0.04      0.20      0.07       250\n",
            "weighted avg       0.04      0.20      0.07       250\n",
            "\n"
          ]
        },
        {
          "output_type": "stream",
          "name": "stderr",
          "text": [
            "/usr/local/lib/python3.10/dist-packages/sklearn/metrics/_classification.py:1344: UndefinedMetricWarning: Precision and F-score are ill-defined and being set to 0.0 in labels with no predicted samples. Use `zero_division` parameter to control this behavior.\n",
            "  _warn_prf(average, modifier, msg_start, len(result))\n",
            "/usr/local/lib/python3.10/dist-packages/sklearn/metrics/_classification.py:1344: UndefinedMetricWarning: Precision and F-score are ill-defined and being set to 0.0 in labels with no predicted samples. Use `zero_division` parameter to control this behavior.\n",
            "  _warn_prf(average, modifier, msg_start, len(result))\n",
            "/usr/local/lib/python3.10/dist-packages/sklearn/metrics/_classification.py:1344: UndefinedMetricWarning: Precision and F-score are ill-defined and being set to 0.0 in labels with no predicted samples. Use `zero_division` parameter to control this behavior.\n",
            "  _warn_prf(average, modifier, msg_start, len(result))\n",
            "/usr/local/lib/python3.10/dist-packages/sklearn/metrics/_classification.py:1344: UndefinedMetricWarning: Precision and F-score are ill-defined and being set to 0.0 in labels with no predicted samples. Use `zero_division` parameter to control this behavior.\n",
            "  _warn_prf(average, modifier, msg_start, len(result))\n",
            "/usr/local/lib/python3.10/dist-packages/sklearn/metrics/_classification.py:1344: UndefinedMetricWarning: Precision and F-score are ill-defined and being set to 0.0 in labels with no predicted samples. Use `zero_division` parameter to control this behavior.\n",
            "  _warn_prf(average, modifier, msg_start, len(result))\n",
            "/usr/local/lib/python3.10/dist-packages/sklearn/metrics/_classification.py:1344: UndefinedMetricWarning: Precision and F-score are ill-defined and being set to 0.0 in labels with no predicted samples. Use `zero_division` parameter to control this behavior.\n",
            "  _warn_prf(average, modifier, msg_start, len(result))\n"
          ]
        }
      ]
    }
  ]
}