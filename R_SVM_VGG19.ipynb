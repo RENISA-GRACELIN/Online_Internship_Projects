{
  "cells": [
    {
      "cell_type": "markdown",
      "metadata": {
        "id": "view-in-github",
        "colab_type": "text"
      },
      "source": [
        "<a href=\"https://colab.research.google.com/github/RENISA-GRACELIN/Online_Internship_Projects/blob/main/R_SVM_VGG19.ipynb\" target=\"_parent\"><img src=\"https://colab.research.google.com/assets/colab-badge.svg\" alt=\"Open In Colab\"/></a>"
      ]
    },
    {
      "cell_type": "code",
      "execution_count": 1,
      "metadata": {
        "id": "8CsPlSfOcGo6"
      },
      "outputs": [],
      "source": [
        "# Import necessary libraries\n",
        "import os\n",
        "import numpy as np\n",
        "from keras.applications.vgg19 import VGG19, preprocess_input\n",
        "from keras.preprocessing import image\n",
        "import tensorflow as tf\n",
        "from tensorflow.keras import layers\n",
        "from sklearn import svm\n",
        "from sklearn import metrics\n",
        "from sklearn.metrics import classification_report, confusion_matrix\n"
      ]
    },
    {
      "cell_type": "code",
      "execution_count": 2,
      "metadata": {
        "id": "khKik97xejW_",
        "colab": {
          "base_uri": "https://localhost:8080/"
        },
        "outputId": "2a9f30cc-ef55-4618-f798-670cfeccff83"
      },
      "outputs": [
        {
          "output_type": "stream",
          "name": "stdout",
          "text": [
            "Mounted at /content/drive\n"
          ]
        }
      ],
      "source": [
        "from google.colab import drive\n",
        "drive.mount('/content/drive')\n",
        "\n",
        "# Data directories\n",
        "train_dir = '/content/drive/MyDrive/DR_50/Train'\n",
        "test_dir = '/content/drive/MyDrive/DR_50/Test'\n",
        "valid_dir = '/content/drive/MyDrive/DR_50/Valid'"
      ]
    },
    {
      "cell_type": "code",
      "execution_count": 3,
      "metadata": {
        "id": "He27xXh0e7ml"
      },
      "outputs": [],
      "source": [
        "# Image dimensions\n",
        "img_width, img_height = 300, 300  # Adjust according to your image dimensions\n",
        "batch_size = 32\n",
        "num_epochs = 20"
      ]
    },
    {
      "cell_type": "code",
      "source": [
        "# Load VGG19 model for feature extraction\n",
        "model = VGG19(weights='imagenet', include_top=False)"
      ],
      "metadata": {
        "colab": {
          "base_uri": "https://localhost:8080/"
        },
        "id": "GwMlgOKJ1lRv",
        "outputId": "1c5ff6df-3da0-4f26-bfe3-4a9279c38aff"
      },
      "execution_count": 4,
      "outputs": [
        {
          "output_type": "stream",
          "name": "stdout",
          "text": [
            "Downloading data from https://storage.googleapis.com/tensorflow/keras-applications/vgg19/vgg19_weights_tf_dim_ordering_tf_kernels_notop.h5\n",
            "80134624/80134624 [==============================] - 1s 0us/step\n"
          ]
        }
      ]
    },
    {
      "cell_type": "code",
      "execution_count": 5,
      "metadata": {
        "id": "op_VEdhHeUHF"
      },
      "outputs": [],
      "source": [
        "# Function to extract features from an image\n",
        "def extract_features(img_path):\n",
        "    img = image.load_img(img_path, target_size=(224, 224))\n",
        "    img_data = image.img_to_array(img)\n",
        "    img_data = np.expand_dims(img_data, axis=0)\n",
        "    img_data = preprocess_input(img_data)\n",
        "    features = model.predict(img_data)\n",
        "    return features"
      ]
    },
    {
      "cell_type": "code",
      "source": [
        "# Load images and extract features\n",
        "x_train, y_train = [], []\n",
        "for i in range(5):\n",
        "    class_dir = os.path.join(train_dir, str(i))\n",
        "    for img_path in os.listdir(class_dir):\n",
        "        features = extract_features(os.path.join(class_dir, img_path))\n",
        "        x_train.append(features)\n",
        "        y_train.append(i)\n"
      ],
      "metadata": {
        "colab": {
          "base_uri": "https://localhost:8080/"
        },
        "id": "7hpSro-91ryr",
        "outputId": "8b012cfd-038f-4f7d-fc3d-51025de6cbdd"
      },
      "execution_count": 6,
      "outputs": [
        {
          "output_type": "stream",
          "name": "stdout",
          "text": [
            "1/1 [==============================] - 1s 1s/step\n",
            "1/1 [==============================] - 1s 625ms/step\n",
            "1/1 [==============================] - 1s 685ms/step\n",
            "1/1 [==============================] - 1s 628ms/step\n",
            "1/1 [==============================] - 1s 609ms/step\n",
            "1/1 [==============================] - 1s 1s/step\n",
            "1/1 [==============================] - 1s 1s/step\n",
            "1/1 [==============================] - 1s 919ms/step\n",
            "1/1 [==============================] - 1s 623ms/step\n",
            "1/1 [==============================] - 1s 615ms/step\n",
            "1/1 [==============================] - 1s 615ms/step\n",
            "1/1 [==============================] - 1s 616ms/step\n",
            "1/1 [==============================] - 1s 622ms/step\n",
            "1/1 [==============================] - 1s 620ms/step\n",
            "1/1 [==============================] - 1s 619ms/step\n",
            "1/1 [==============================] - 1s 615ms/step\n",
            "1/1 [==============================] - 1s 619ms/step\n",
            "1/1 [==============================] - 1s 1s/step\n",
            "1/1 [==============================] - 1s 1s/step\n",
            "1/1 [==============================] - 1s 613ms/step\n",
            "1/1 [==============================] - 1s 624ms/step\n",
            "1/1 [==============================] - 1s 613ms/step\n",
            "1/1 [==============================] - 1s 626ms/step\n",
            "1/1 [==============================] - 1s 607ms/step\n",
            "1/1 [==============================] - 1s 615ms/step\n",
            "1/1 [==============================] - 1s 598ms/step\n",
            "1/1 [==============================] - 1s 615ms/step\n",
            "1/1 [==============================] - 1s 671ms/step\n",
            "1/1 [==============================] - 1s 1s/step\n",
            "1/1 [==============================] - 1s 744ms/step\n",
            "1/1 [==============================] - 1s 603ms/step\n",
            "1/1 [==============================] - 1s 615ms/step\n",
            "1/1 [==============================] - 1s 613ms/step\n",
            "1/1 [==============================] - 1s 616ms/step\n",
            "1/1 [==============================] - 1s 592ms/step\n",
            "1/1 [==============================] - 1s 601ms/step\n",
            "1/1 [==============================] - 1s 608ms/step\n",
            "1/1 [==============================] - 1s 597ms/step\n",
            "1/1 [==============================] - 1s 1s/step\n",
            "1/1 [==============================] - 1s 1s/step\n",
            "1/1 [==============================] - 1s 610ms/step\n",
            "1/1 [==============================] - 1s 614ms/step\n",
            "1/1 [==============================] - 1s 617ms/step\n",
            "1/1 [==============================] - 1s 617ms/step\n",
            "1/1 [==============================] - 1s 621ms/step\n",
            "1/1 [==============================] - 1s 628ms/step\n",
            "1/1 [==============================] - 1s 608ms/step\n",
            "1/1 [==============================] - 1s 606ms/step\n",
            "1/1 [==============================] - 1s 595ms/step\n",
            "1/1 [==============================] - 1s 610ms/step\n",
            "1/1 [==============================] - 1s 821ms/step\n",
            "1/1 [==============================] - 1s 1s/step\n",
            "1/1 [==============================] - 1s 1s/step\n",
            "1/1 [==============================] - 1s 596ms/step\n",
            "1/1 [==============================] - 1s 597ms/step\n",
            "1/1 [==============================] - 1s 606ms/step\n",
            "1/1 [==============================] - 1s 602ms/step\n",
            "1/1 [==============================] - 1s 604ms/step\n",
            "1/1 [==============================] - 1s 620ms/step\n",
            "1/1 [==============================] - 1s 625ms/step\n",
            "1/1 [==============================] - 1s 618ms/step\n",
            "1/1 [==============================] - 1s 618ms/step\n",
            "1/1 [==============================] - 1s 633ms/step\n",
            "1/1 [==============================] - 2s 2s/step\n",
            "1/1 [==============================] - 1s 1s/step\n",
            "1/1 [==============================] - 1s 616ms/step\n",
            "1/1 [==============================] - 1s 623ms/step\n",
            "1/1 [==============================] - 1s 613ms/step\n",
            "1/1 [==============================] - 1s 613ms/step\n",
            "1/1 [==============================] - 1s 634ms/step\n",
            "1/1 [==============================] - 1s 615ms/step\n",
            "1/1 [==============================] - 1s 610ms/step\n",
            "1/1 [==============================] - 1s 622ms/step\n",
            "1/1 [==============================] - 1s 1s/step\n",
            "1/1 [==============================] - 1s 1s/step\n",
            "1/1 [==============================] - 1s 626ms/step\n",
            "1/1 [==============================] - 1s 604ms/step\n",
            "1/1 [==============================] - 1s 615ms/step\n",
            "1/1 [==============================] - 1s 616ms/step\n",
            "1/1 [==============================] - 1s 626ms/step\n",
            "1/1 [==============================] - 1s 601ms/step\n",
            "1/1 [==============================] - 1s 596ms/step\n",
            "1/1 [==============================] - 1s 597ms/step\n",
            "1/1 [==============================] - 1s 988ms/step\n",
            "1/1 [==============================] - 1s 1s/step\n",
            "1/1 [==============================] - 1s 886ms/step\n",
            "1/1 [==============================] - 1s 624ms/step\n",
            "1/1 [==============================] - 1s 621ms/step\n",
            "1/1 [==============================] - 1s 613ms/step\n",
            "1/1 [==============================] - 1s 615ms/step\n",
            "1/1 [==============================] - 1s 614ms/step\n",
            "1/1 [==============================] - 1s 618ms/step\n",
            "1/1 [==============================] - 1s 616ms/step\n",
            "1/1 [==============================] - 1s 633ms/step\n",
            "1/1 [==============================] - 1s 715ms/step\n",
            "1/1 [==============================] - 1s 1s/step\n",
            "1/1 [==============================] - 1s 1s/step\n",
            "1/1 [==============================] - 1s 631ms/step\n",
            "1/1 [==============================] - 1s 616ms/step\n",
            "1/1 [==============================] - 1s 611ms/step\n",
            "1/1 [==============================] - 1s 612ms/step\n",
            "1/1 [==============================] - 1s 622ms/step\n",
            "1/1 [==============================] - 1s 617ms/step\n",
            "1/1 [==============================] - 1s 616ms/step\n",
            "1/1 [==============================] - 1s 619ms/step\n",
            "1/1 [==============================] - 1s 845ms/step\n",
            "1/1 [==============================] - 1s 1s/step\n",
            "1/1 [==============================] - 1s 1s/step\n",
            "1/1 [==============================] - 1s 599ms/step\n",
            "1/1 [==============================] - 1s 627ms/step\n",
            "1/1 [==============================] - 1s 618ms/step\n",
            "1/1 [==============================] - 1s 626ms/step\n",
            "1/1 [==============================] - 1s 614ms/step\n",
            "1/1 [==============================] - 1s 599ms/step\n",
            "1/1 [==============================] - 1s 608ms/step\n",
            "1/1 [==============================] - 1s 595ms/step\n",
            "1/1 [==============================] - 1s 1s/step\n",
            "1/1 [==============================] - 1s 1s/step\n",
            "1/1 [==============================] - 1s 605ms/step\n",
            "1/1 [==============================] - 1s 617ms/step\n",
            "1/1 [==============================] - 1s 609ms/step\n",
            "1/1 [==============================] - 1s 614ms/step\n",
            "1/1 [==============================] - 1s 617ms/step\n",
            "1/1 [==============================] - 1s 609ms/step\n",
            "1/1 [==============================] - 1s 616ms/step\n",
            "1/1 [==============================] - 1s 611ms/step\n",
            "1/1 [==============================] - 1s 600ms/step\n",
            "1/1 [==============================] - 1s 1s/step\n",
            "1/1 [==============================] - 1s 1s/step\n",
            "1/1 [==============================] - 1s 620ms/step\n",
            "1/1 [==============================] - 1s 641ms/step\n",
            "1/1 [==============================] - 1s 621ms/step\n",
            "1/1 [==============================] - 1s 620ms/step\n",
            "1/1 [==============================] - 1s 619ms/step\n",
            "1/1 [==============================] - 1s 622ms/step\n",
            "1/1 [==============================] - 1s 615ms/step\n",
            "1/1 [==============================] - 1s 616ms/step\n",
            "1/1 [==============================] - 1s 604ms/step\n",
            "1/1 [==============================] - 1s 1s/step\n",
            "1/1 [==============================] - 1s 1000ms/step\n",
            "1/1 [==============================] - 1s 607ms/step\n",
            "1/1 [==============================] - 1s 611ms/step\n",
            "1/1 [==============================] - 1s 619ms/step\n",
            "1/1 [==============================] - 1s 618ms/step\n",
            "1/1 [==============================] - 1s 616ms/step\n",
            "1/1 [==============================] - 1s 690ms/step\n",
            "1/1 [==============================] - 1s 601ms/step\n",
            "1/1 [==============================] - 1s 609ms/step\n",
            "1/1 [==============================] - 1s 620ms/step\n",
            "1/1 [==============================] - 1s 621ms/step\n",
            "1/1 [==============================] - 1s 606ms/step\n",
            "1/1 [==============================] - 1s 612ms/step\n",
            "1/1 [==============================] - 1s 610ms/step\n",
            "1/1 [==============================] - 1s 610ms/step\n",
            "1/1 [==============================] - 1s 604ms/step\n",
            "1/1 [==============================] - 1s 1s/step\n",
            "1/1 [==============================] - 1s 1s/step\n",
            "1/1 [==============================] - 1s 629ms/step\n",
            "1/1 [==============================] - 1s 614ms/step\n",
            "1/1 [==============================] - 1s 625ms/step\n",
            "1/1 [==============================] - 1s 613ms/step\n",
            "1/1 [==============================] - 1s 618ms/step\n",
            "1/1 [==============================] - 1s 621ms/step\n",
            "1/1 [==============================] - 1s 622ms/step\n",
            "1/1 [==============================] - 1s 625ms/step\n",
            "1/1 [==============================] - 1s 621ms/step\n",
            "1/1 [==============================] - 1s 984ms/step\n",
            "1/1 [==============================] - 1s 1s/step\n",
            "1/1 [==============================] - 1s 944ms/step\n",
            "1/1 [==============================] - 1s 1s/step\n",
            "1/1 [==============================] - 1s 1s/step\n",
            "1/1 [==============================] - 1s 1s/step\n",
            "1/1 [==============================] - 1s 1s/step\n",
            "1/1 [==============================] - 1s 943ms/step\n",
            "1/1 [==============================] - 1s 1s/step\n"
          ]
        }
      ]
    },
    {
      "cell_type": "code",
      "execution_count": 7,
      "metadata": {
        "id": "oLeWAT5KeaXR",
        "colab": {
          "base_uri": "https://localhost:8080/"
        },
        "outputId": "88a68926-2e34-4d69-dc10-05bbea97e719"
      },
      "outputs": [
        {
          "output_type": "stream",
          "name": "stderr",
          "text": [
            "\rClass 0:   0%|          | 0/5 [00:00<?, ?it/s]"
          ]
        },
        {
          "output_type": "stream",
          "name": "stdout",
          "text": [
            "1/1 [==============================] - 1s 621ms/step\n"
          ]
        },
        {
          "output_type": "stream",
          "name": "stderr",
          "text": [
            "\rClass 0:  20%|██        | 1/5 [00:00<00:03,  1.00it/s]"
          ]
        },
        {
          "output_type": "stream",
          "name": "stdout",
          "text": [
            "1/1 [==============================] - 1s 630ms/step\n"
          ]
        },
        {
          "output_type": "stream",
          "name": "stderr",
          "text": [
            "\rClass 0:  40%|████      | 2/5 [00:02<00:03,  1.00s/it]"
          ]
        },
        {
          "output_type": "stream",
          "name": "stdout",
          "text": [
            "1/1 [==============================] - 1s 626ms/step\n"
          ]
        },
        {
          "output_type": "stream",
          "name": "stderr",
          "text": [
            "\rClass 0:  60%|██████    | 3/5 [00:03<00:02,  1.05s/it]"
          ]
        },
        {
          "output_type": "stream",
          "name": "stdout",
          "text": [
            "1/1 [==============================] - 1s 618ms/step\n"
          ]
        },
        {
          "output_type": "stream",
          "name": "stderr",
          "text": [
            "\rClass 0:  80%|████████  | 4/5 [00:04<00:01,  1.02s/it]"
          ]
        },
        {
          "output_type": "stream",
          "name": "stdout",
          "text": [
            "1/1 [==============================] - 1s 629ms/step\n"
          ]
        },
        {
          "output_type": "stream",
          "name": "stderr",
          "text": [
            "Class 0: 100%|██████████| 5/5 [00:05<00:00,  1.02s/it]\n",
            "Class 1:   0%|          | 0/5 [00:00<?, ?it/s]"
          ]
        },
        {
          "output_type": "stream",
          "name": "stdout",
          "text": [
            "1/1 [==============================] - 1s 624ms/step\n"
          ]
        },
        {
          "output_type": "stream",
          "name": "stderr",
          "text": [
            "\rClass 1:  20%|██        | 1/5 [00:01<00:04,  1.06s/it]"
          ]
        },
        {
          "output_type": "stream",
          "name": "stdout",
          "text": [
            "1/1 [==============================] - 1s 625ms/step\n"
          ]
        },
        {
          "output_type": "stream",
          "name": "stderr",
          "text": [
            "\rClass 1:  40%|████      | 2/5 [00:02<00:03,  1.01s/it]"
          ]
        },
        {
          "output_type": "stream",
          "name": "stdout",
          "text": [
            "1/1 [==============================] - 1s 627ms/step\n"
          ]
        },
        {
          "output_type": "stream",
          "name": "stderr",
          "text": [
            "\rClass 1:  60%|██████    | 3/5 [00:03<00:02,  1.13s/it]"
          ]
        },
        {
          "output_type": "stream",
          "name": "stdout",
          "text": [
            "1/1 [==============================] - 1s 615ms/step\n"
          ]
        },
        {
          "output_type": "stream",
          "name": "stderr",
          "text": [
            "\rClass 1:  80%|████████  | 4/5 [00:04<00:01,  1.13s/it]"
          ]
        },
        {
          "output_type": "stream",
          "name": "stdout",
          "text": [
            "1/1 [==============================] - 1s 1s/step\n"
          ]
        },
        {
          "output_type": "stream",
          "name": "stderr",
          "text": [
            "Class 1: 100%|██████████| 5/5 [00:06<00:00,  1.24s/it]\n",
            "Class 2:   0%|          | 0/5 [00:00<?, ?it/s]"
          ]
        },
        {
          "output_type": "stream",
          "name": "stdout",
          "text": [
            "1/1 [==============================] - 1s 1s/step\n"
          ]
        },
        {
          "output_type": "stream",
          "name": "stderr",
          "text": [
            "\rClass 2:  20%|██        | 1/5 [00:01<00:05,  1.44s/it]"
          ]
        },
        {
          "output_type": "stream",
          "name": "stdout",
          "text": [
            "1/1 [==============================] - 1s 630ms/step\n"
          ]
        },
        {
          "output_type": "stream",
          "name": "stderr",
          "text": [
            "\rClass 2:  40%|████      | 2/5 [00:02<00:03,  1.33s/it]"
          ]
        },
        {
          "output_type": "stream",
          "name": "stdout",
          "text": [
            "1/1 [==============================] - 1s 618ms/step\n"
          ]
        },
        {
          "output_type": "stream",
          "name": "stderr",
          "text": [
            "\rClass 2:  60%|██████    | 3/5 [00:03<00:02,  1.18s/it]"
          ]
        },
        {
          "output_type": "stream",
          "name": "stdout",
          "text": [
            "1/1 [==============================] - 1s 616ms/step\n"
          ]
        },
        {
          "output_type": "stream",
          "name": "stderr",
          "text": [
            "\rClass 2:  80%|████████  | 4/5 [00:04<00:01,  1.13s/it]"
          ]
        },
        {
          "output_type": "stream",
          "name": "stdout",
          "text": [
            "1/1 [==============================] - 1s 630ms/step\n"
          ]
        },
        {
          "output_type": "stream",
          "name": "stderr",
          "text": [
            "Class 2: 100%|██████████| 5/5 [00:05<00:00,  1.15s/it]\n",
            "Class 3:   0%|          | 0/5 [00:00<?, ?it/s]"
          ]
        },
        {
          "output_type": "stream",
          "name": "stdout",
          "text": [
            "1/1 [==============================] - 1s 623ms/step\n"
          ]
        },
        {
          "output_type": "stream",
          "name": "stderr",
          "text": [
            "\rClass 3:  20%|██        | 1/5 [00:01<00:04,  1.03s/it]"
          ]
        },
        {
          "output_type": "stream",
          "name": "stdout",
          "text": [
            "1/1 [==============================] - 1s 622ms/step\n"
          ]
        },
        {
          "output_type": "stream",
          "name": "stderr",
          "text": [
            "\rClass 3:  40%|████      | 2/5 [00:02<00:03,  1.01s/it]"
          ]
        },
        {
          "output_type": "stream",
          "name": "stdout",
          "text": [
            "1/1 [==============================] - 1s 622ms/step\n"
          ]
        },
        {
          "output_type": "stream",
          "name": "stderr",
          "text": [
            "\rClass 3:  60%|██████    | 3/5 [00:03<00:02,  1.02s/it]"
          ]
        },
        {
          "output_type": "stream",
          "name": "stdout",
          "text": [
            "1/1 [==============================] - 1s 623ms/step\n"
          ]
        },
        {
          "output_type": "stream",
          "name": "stderr",
          "text": [
            "\rClass 3:  80%|████████  | 4/5 [00:04<00:01,  1.02s/it]"
          ]
        },
        {
          "output_type": "stream",
          "name": "stdout",
          "text": [
            "1/1 [==============================] - 1s 627ms/step\n"
          ]
        },
        {
          "output_type": "stream",
          "name": "stderr",
          "text": [
            "Class 3: 100%|██████████| 5/5 [00:05<00:00,  1.03s/it]\n",
            "Class 4:   0%|          | 0/5 [00:00<?, ?it/s]"
          ]
        },
        {
          "output_type": "stream",
          "name": "stdout",
          "text": [
            "1/1 [==============================] - 1s 665ms/step\n"
          ]
        },
        {
          "output_type": "stream",
          "name": "stderr",
          "text": [
            "\rClass 4:  20%|██        | 1/5 [00:01<00:04,  1.02s/it]"
          ]
        },
        {
          "output_type": "stream",
          "name": "stdout",
          "text": [
            "1/1 [==============================] - 1s 1s/step\n"
          ]
        },
        {
          "output_type": "stream",
          "name": "stderr",
          "text": [
            "\rClass 4:  40%|████      | 2/5 [00:02<00:04,  1.45s/it]"
          ]
        },
        {
          "output_type": "stream",
          "name": "stdout",
          "text": [
            "1/1 [==============================] - 1s 1s/step\n"
          ]
        },
        {
          "output_type": "stream",
          "name": "stderr",
          "text": [
            "\rClass 4:  60%|██████    | 3/5 [00:04<00:02,  1.44s/it]"
          ]
        },
        {
          "output_type": "stream",
          "name": "stdout",
          "text": [
            "1/1 [==============================] - 1s 614ms/step\n"
          ]
        },
        {
          "output_type": "stream",
          "name": "stderr",
          "text": [
            "\rClass 4:  80%|████████  | 4/5 [00:05<00:01,  1.27s/it]"
          ]
        },
        {
          "output_type": "stream",
          "name": "stdout",
          "text": [
            "1/1 [==============================] - 1s 601ms/step\n"
          ]
        },
        {
          "output_type": "stream",
          "name": "stderr",
          "text": [
            "Class 4: 100%|██████████| 5/5 [00:06<00:00,  1.28s/it]\n"
          ]
        }
      ],
      "source": [
        "from tqdm import tqdm\n",
        "\n",
        "# Evaluate on test set\n",
        "x_test, y_test = [], []\n",
        "for i in range(5):\n",
        "    class_dir = os.path.join(test_dir, str(i))\n",
        "    # Use tqdm to create a progress bar\n",
        "    for img_path in tqdm(os.listdir(class_dir), desc=f'Class {i}'):\n",
        "        features = extract_features(os.path.join(class_dir, img_path))\n",
        "        x_test.append(features)\n",
        "        y_test.append(i)\n",
        "\n",
        "#y_pred = clf.predict(x_test)\n"
      ]
    },
    {
      "cell_type": "code",
      "source": [
        "# Flatten the features\n",
        "x_train_flat = np.array([feature.flatten() for feature in x_train])\n",
        "x_test_flat = np.array([feature.flatten() for feature in x_test])\n",
        "\n",
        "# List of kernels to try\n",
        "kernels = ['linear', 'poly', 'rbf', 'sigmoid']\n",
        "\n",
        "for kernel in kernels:\n",
        "    print(f\"Training SVM with {kernel} kernel...\")\n",
        "\n",
        "    # Train SVM classifier\n",
        "    clf = svm.SVC(kernel=kernel)\n",
        "    clf.fit(x_train_flat, y_train)\n",
        "\n",
        "    # Predict on test set\n",
        "    y_pred = clf.predict(x_test_flat)\n",
        "\n",
        "\n",
        "    # Predict on test set\n",
        "    y_pred = clf.predict(x_test_flat)\n",
        "\n",
        "    # Print performance metrics\n",
        "    print(f'Performance metrics for {kernel} kernel:')\n",
        "    print('Classification Report:')\n",
        "    print(metrics.classification_report(y_test, y_pred))\n",
        "\n",
        "    # Additional performance metrics\n",
        "    accuracy = metrics.accuracy_score(y_test, y_pred)\n",
        "    sensitivity = metrics.recall_score(y_test, y_pred, average='macro')\n",
        "    precision = metrics.precision_score(y_test, y_pred, average='macro')\n",
        "    f1 = metrics.f1_score(y_test, y_pred, average='macro')\n",
        "\n",
        "    print(f'Accuracy: {accuracy}')\n",
        "    print(f'Sensitivity: {sensitivity}')\n",
        "    print(f'Precision: {precision}')\n",
        "    print(f'F1 Score: {f1}\\n')\n"
      ],
      "metadata": {
        "colab": {
          "base_uri": "https://localhost:8080/"
        },
        "id": "VhYVEkZa1zSq",
        "outputId": "f77ed95f-2489-4d99-d7d1-738f4a75f87a"
      },
      "execution_count": 8,
      "outputs": [
        {
          "output_type": "stream",
          "name": "stdout",
          "text": [
            "Training SVM with linear kernel...\n",
            "Performance metrics for linear kernel:\n",
            "Classification Report:\n",
            "              precision    recall  f1-score   support\n",
            "\n",
            "           0       0.60      0.60      0.60         5\n",
            "           1       1.00      0.60      0.75         5\n",
            "           2       0.71      1.00      0.83         5\n",
            "           3       0.50      0.40      0.44         5\n",
            "           4       0.83      1.00      0.91         5\n",
            "\n",
            "    accuracy                           0.72        25\n",
            "   macro avg       0.73      0.72      0.71        25\n",
            "weighted avg       0.73      0.72      0.71        25\n",
            "\n",
            "Accuracy: 0.72\n",
            "Sensitivity: 0.72\n",
            "Precision: 0.7295238095238096\n",
            "F1 Score: 0.7073737373737374\n",
            "\n",
            "Training SVM with poly kernel...\n",
            "Performance metrics for poly kernel:\n",
            "Classification Report:\n",
            "              precision    recall  f1-score   support\n",
            "\n",
            "           0       0.36      1.00      0.53         5\n",
            "           1       1.00      0.40      0.57         5\n",
            "           2       0.50      0.40      0.44         5\n",
            "           3       1.00      0.20      0.33         5\n",
            "           4       1.00      0.80      0.89         5\n",
            "\n",
            "    accuracy                           0.56        25\n",
            "   macro avg       0.77      0.56      0.55        25\n",
            "weighted avg       0.77      0.56      0.55        25\n",
            "\n",
            "Accuracy: 0.56\n",
            "Sensitivity: 0.5599999999999999\n",
            "Precision: 0.7714285714285715\n",
            "F1 Score: 0.5528822055137844\n",
            "\n",
            "Training SVM with rbf kernel...\n",
            "Performance metrics for rbf kernel:\n",
            "Classification Report:\n",
            "              precision    recall  f1-score   support\n",
            "\n",
            "           0       0.50      0.60      0.55         5\n",
            "           1       1.00      0.60      0.75         5\n",
            "           2       0.50      0.40      0.44         5\n",
            "           3       0.20      0.20      0.20         5\n",
            "           4       0.71      1.00      0.83         5\n",
            "\n",
            "    accuracy                           0.56        25\n",
            "   macro avg       0.58      0.56      0.55        25\n",
            "weighted avg       0.58      0.56      0.55        25\n",
            "\n",
            "Accuracy: 0.56\n",
            "Sensitivity: 0.5599999999999999\n",
            "Precision: 0.582857142857143\n",
            "F1 Score: 0.5546464646464646\n",
            "\n",
            "Training SVM with sigmoid kernel...\n",
            "Performance metrics for sigmoid kernel:\n",
            "Classification Report:\n",
            "              precision    recall  f1-score   support\n",
            "\n",
            "           0       0.40      0.40      0.40         5\n",
            "           1       1.00      0.60      0.75         5\n",
            "           2       0.50      0.40      0.44         5\n",
            "           3       0.17      0.20      0.18         5\n",
            "           4       0.71      1.00      0.83         5\n",
            "\n",
            "    accuracy                           0.52        25\n",
            "   macro avg       0.56      0.52      0.52        25\n",
            "weighted avg       0.56      0.52      0.52        25\n",
            "\n",
            "Accuracy: 0.52\n",
            "Sensitivity: 0.5199999999999999\n",
            "Precision: 0.5561904761904761\n",
            "F1 Score: 0.5219191919191919\n",
            "\n"
          ]
        }
      ]
    },
    {
      "cell_type": "code",
      "execution_count": 9,
      "metadata": {
        "id": "u6XtprfvfBNc",
        "colab": {
          "base_uri": "https://localhost:8080/"
        },
        "outputId": "5f9aca64-4ca3-4d6f-cb3b-92f5bd2af32f"
      },
      "outputs": [
        {
          "output_type": "stream",
          "name": "stdout",
          "text": [
            "Classification Report:\n",
            "              precision    recall  f1-score   support\n",
            "\n",
            "           0       0.40      0.40      0.40         5\n",
            "           1       1.00      0.60      0.75         5\n",
            "           2       0.50      0.40      0.44         5\n",
            "           3       0.17      0.20      0.18         5\n",
            "           4       0.71      1.00      0.83         5\n",
            "\n",
            "    accuracy                           0.52        25\n",
            "   macro avg       0.56      0.52      0.52        25\n",
            "weighted avg       0.56      0.52      0.52        25\n",
            "\n",
            "Confusion Matrix:\n",
            "[[2 0 0 3 0]\n",
            " [1 3 0 1 0]\n",
            " [1 0 2 1 1]\n",
            " [1 0 2 1 1]\n",
            " [0 0 0 0 5]]\n"
          ]
        }
      ],
      "source": [
        "# Print performance metrics\n",
        "print('Classification Report:')\n",
        "print(classification_report(y_test, y_pred))\n",
        "print('Confusion Matrix:')\n",
        "print(confusion_matrix(y_test, y_pred))"
      ]
    },
    {
      "cell_type": "code",
      "source": [
        "# Flatten the features\n",
        "x_train_flat = np.array([feature.flatten() for feature in x_train])\n",
        "x_test_flat = np.array([feature.flatten() for feature in x_test])\n",
        "\n",
        "# List of kernels to try\n",
        "kernels = ['linear', 'poly', 'rbf', 'sigmoid']\n",
        "\n",
        "for kernel in kernels:\n",
        "    print(f\"Training SVM with {kernel} kernel...\")\n",
        "\n",
        "    # Train SVM classifier\n",
        "    clf = svm.SVC(kernel=kernel)\n",
        "    clf.fit(x_train_flat, y_train)\n",
        "\n",
        "    # Predict on test set\n",
        "    y_pred = clf.predict(x_test_flat)\n",
        "\n",
        "\n",
        "    # Predict on test set\n",
        "    y_pred = clf.predict(x_test_flat)\n",
        "\n",
        "    # Print performance metrics\n",
        "    print(f'Performance metrics for {kernel} kernel:')\n",
        "    print('Classification Report:')\n",
        "    print(metrics.classification_report(y_test, y_pred))\n",
        "\n",
        "    # Additional performance metrics\n",
        "    accuracy = metrics.accuracy_score(y_test, y_pred)\n",
        "    sensitivity = metrics.recall_score(y_test, y_pred, average='macro')\n",
        "    precision = metrics.precision_score(y_test, y_pred, average='macro')\n",
        "    f1 = metrics.f1_score(y_test, y_pred, average='macro')\n",
        "\n",
        "    print(f'Accuracy: {accuracy}')\n",
        "    print(f'Sensitivity: {sensitivity}')\n",
        "    print(f'Precision: {precision}')\n",
        "    print(f'F1 Score: {f1}\\n')\n",
        "\n",
        "    import seaborn as sns\n",
        "    import matplotlib.pyplot as plt\n",
        "\n",
        "    # Confusion Matrix\n",
        "    cm = confusion_matrix(y_test, y_pred)\n",
        "\n",
        "    # Plot heatmap\n",
        "    plt.figure(figsize=(8, 6))\n",
        "    sns.heatmap(cm, annot=True, fmt='d', cmap='Blues', xticklabels=range(5), yticklabels=range(5))\n",
        "    plt.xlabel('Predicted')\n",
        "    plt.ylabel('True')\n",
        "    plt.title(f'Confusion Matrix for {kernel} kernel')\n",
        "    plt.show()\n",
        "\n"
      ],
      "metadata": {
        "colab": {
          "base_uri": "https://localhost:8080/",
          "height": 1000
        },
        "id": "AOvSWfCm3s93",
        "outputId": "5083d47f-3231-423e-b18f-4e49a32f5d1a"
      },
      "execution_count": 12,
      "outputs": [
        {
          "output_type": "stream",
          "name": "stdout",
          "text": [
            "Training SVM with linear kernel...\n",
            "Performance metrics for linear kernel:\n",
            "Classification Report:\n",
            "              precision    recall  f1-score   support\n",
            "\n",
            "           0       0.60      0.60      0.60         5\n",
            "           1       1.00      0.60      0.75         5\n",
            "           2       0.71      1.00      0.83         5\n",
            "           3       0.50      0.40      0.44         5\n",
            "           4       0.83      1.00      0.91         5\n",
            "\n",
            "    accuracy                           0.72        25\n",
            "   macro avg       0.73      0.72      0.71        25\n",
            "weighted avg       0.73      0.72      0.71        25\n",
            "\n",
            "Accuracy: 0.72\n",
            "Sensitivity: 0.72\n",
            "Precision: 0.7295238095238096\n",
            "F1 Score: 0.7073737373737374\n",
            "\n"
          ]
        },
        {
          "output_type": "display_data",
          "data": {
            "text/plain": [
              "<Figure size 800x600 with 2 Axes>"
            ],
            "image/png": "[encoded data removed]"
          },
          "metadata": {}
        },
        {
          "output_type": "stream",
          "name": "stdout",
          "text": [
            "Training SVM with poly kernel...\n",
            "Performance metrics for poly kernel:\n",
            "Classification Report:\n",
            "              precision    recall  f1-score   support\n",
            "\n",
            "           0       0.36      1.00      0.53         5\n",
            "           1       1.00      0.40      0.57         5\n",
            "           2       0.50      0.40      0.44         5\n",
            "           3       1.00      0.20      0.33         5\n",
            "           4       1.00      0.80      0.89         5\n",
            "\n",
            "    accuracy                           0.56        25\n",
            "   macro avg       0.77      0.56      0.55        25\n",
            "weighted avg       0.77      0.56      0.55        25\n",
            "\n",
            "Accuracy: 0.56\n",
            "Sensitivity: 0.5599999999999999\n",
            "Precision: 0.7714285714285715\n",
            "F1 Score: 0.5528822055137844\n",
            "\n"
          ]
        },
        {
          "output_type": "display_data",
          "data": {
            "text/plain": [
              "<Figure size 800x600 with 2 Axes>"
            ],
            "image/png": "[encoded data removed]"
          },
          "metadata": {}
        },
        {
          "output_type": "stream",
          "name": "stdout",
          "text": [
            "Training SVM with rbf kernel...\n",
            "Performance metrics for rbf kernel:\n",
            "Classification Report:\n",
            "              precision    recall  f1-score   support\n",
            "\n",
            "           0       0.50      0.60      0.55         5\n",
            "           1       1.00      0.60      0.75         5\n",
            "           2       0.50      0.40      0.44         5\n",
            "           3       0.20      0.20      0.20         5\n",
            "           4       0.71      1.00      0.83         5\n",
            "\n",
            "    accuracy                           0.56        25\n",
            "   macro avg       0.58      0.56      0.55        25\n",
            "weighted avg       0.58      0.56      0.55        25\n",
            "\n",
            "Accuracy: 0.56\n",
            "Sensitivity: 0.5599999999999999\n",
            "Precision: 0.582857142857143\n",
            "F1 Score: 0.5546464646464646\n",
            "\n"
          ]
        },
        {
          "output_type": "display_data",
          "data": {
            "text/plain": [
              "<Figure size 800x600 with 2 Axes>"
            ],
            "image/png": "[encoded data removed]"
          },
          "metadata": {}
        },
        {
          "output_type": "stream",
          "name": "stdout",
          "text": [
            "Training SVM with sigmoid kernel...\n",
            "Performance metrics for sigmoid kernel:\n",
            "Classification Report:\n",
            "              precision    recall  f1-score   support\n",
            "\n",
            "           0       0.40      0.40      0.40         5\n",
            "           1       1.00      0.60      0.75         5\n",
            "           2       0.50      0.40      0.44         5\n",
            "           3       0.17      0.20      0.18         5\n",
            "           4       0.71      1.00      0.83         5\n",
            "\n",
            "    accuracy                           0.52        25\n",
            "   macro avg       0.56      0.52      0.52        25\n",
            "weighted avg       0.56      0.52      0.52        25\n",
            "\n",
            "Accuracy: 0.52\n",
            "Sensitivity: 0.5199999999999999\n",
            "Precision: 0.5561904761904761\n",
            "F1 Score: 0.5219191919191919\n",
            "\n"
          ]
        },
        {
          "output_type": "display_data",
          "data": {
            "text/plain": [
              "<Figure size 800x600 with 2 Axes>"
            ],
            "image/png": "[encoded data removed]"
          },
          "metadata": {}
        }
      ]
    }
  ],
  "metadata": {
    "colab": {
      "provenance": [],
      "mount_file_id": "1WMJiBo_JpU8LCi8cSBEbfY4IgJin9ncF",
      "authorship_tag": "ABX9TyOijIERkUgbS1Yx5trD6JB/",
      "include_colab_link": true
    },
    "kernelspec": {
      "display_name": "Python 3",
      "name": "python3"
    },
    "language_info": {
      "name": "python"
    }
  },
  "nbformat": 4,
  "nbformat_minor": 0
}