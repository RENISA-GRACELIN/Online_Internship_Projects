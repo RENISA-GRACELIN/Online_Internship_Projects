{
  "cells": [
    {
      "cell_type": "markdown",
      "metadata": {
        "id": "view-in-github",
        "colab_type": "text"
      },
      "source": [
        "<a href=\"https://colab.research.google.com/github/RENISA-GRACELIN/Online_Internship_Projects/blob/main/Bing.ipynb\" target=\"_parent\"><img src=\"https://colab.research.google.com/assets/colab-badge.svg\" alt=\"Open In Colab\"/></a>"
      ]
    },
    {
      "cell_type": "code",
      "execution_count": 2,
      "metadata": {
        "id": "uLXINrw5Igij"
      },
      "outputs": [],
      "source": [
        "\n",
        "\n",
        "import tensorflow as tf\n",
        "from tensorflow.keras.preprocessing.image import ImageDataGenerator\n",
        "from tensorflow.keras.models import Sequential\n",
        "from tensorflow.keras.layers import Conv2D, MaxPooling2D, Flatten, Dense, Dropout\n",
        "from tensorflow.keras.optimizers import Adam\n",
        "from sklearn.metrics import confusion_matrix, accuracy_score, recall_score, precision_score, f1_score, roc_auc_score\n",
        "from sklearn.metrics import classification_report"
      ]
    },
    {
      "cell_type": "code",
      "execution_count": 3,
      "metadata": {
        "id": "TN_-K19XIrdg"
      },
      "outputs": [],
      "source": [
        "# Directories\n",
        "train_dir = '/content/drive/MyDrive/DR/Train'\n",
        "valid_dir = '/content/drive/MyDrive/DR/Valid'\n",
        "test_dir = '/content/drive/MyDrive/DR/Test'"
      ]
    },
    {
      "cell_type": "code",
      "execution_count": 4,
      "metadata": {
        "id": "coMJSoMEIuO1",
        "colab": {
          "base_uri": "https://localhost:8080/"
        },
        "outputId": "70e63c59-e63a-4f5f-e0f3-d5bb804540ab"
      },
      "outputs": [
        {
          "output_type": "stream",
          "name": "stdout",
          "text": [
            "Found 1753 images belonging to 5 classes.\n",
            "Found 500 images belonging to 5 classes.\n",
            "Found 268 images belonging to 5 classes.\n"
          ]
        }
      ],
      "source": [
        "# Data Loading\n",
        "train_datagen = ImageDataGenerator(rescale=1./255)\n",
        "valid_datagen = ImageDataGenerator(rescale=1./255)\n",
        "test_datagen = ImageDataGenerator(rescale=1./255)\n",
        "\n",
        "train_generator = train_datagen.flow_from_directory(train_dir, target_size=(150, 150), batch_size=32, class_mode='categorical')\n",
        "valid_generator = valid_datagen.flow_from_directory(valid_dir, target_size=(150, 150), batch_size=32, class_mode='categorical')\n",
        "test_generator = test_datagen.flow_from_directory(test_dir, target_size=(150, 150), batch_size=32, class_mode='categorical')\n"
      ]
    },
    {
      "cell_type": "code",
      "execution_count": 5,
      "metadata": {
        "id": "qej9MguFKTws"
      },
      "outputs": [],
      "source": [
        "# Model Creation\n",
        "model = Sequential([\n",
        "    Conv2D(32, (3, 3), activation='relu', input_shape=(150, 150, 3)),\n",
        "    MaxPooling2D((2, 2)),\n",
        "    Conv2D(64, (3, 3), activation='relu'),\n",
        "    MaxPooling2D((2, 2)),\n",
        "    Flatten(),\n",
        "    Dense(128, activation='relu'),\n",
        "    Dropout(0.5),\n",
        "    Dense(5, activation='softmax')  # 5 classes for 5 stages of diabetic retinopathy\n",
        "])\n"
      ]
    },
    {
      "cell_type": "code",
      "execution_count": 6,
      "metadata": {
        "id": "igOKhdTOKUlb"
      },
      "outputs": [],
      "source": [
        "# Model Compilation\n",
        "model.compile(loss='categorical_crossentropy', optimizer=Adam(), metrics=['accuracy'])\n"
      ]
    },
    {
      "cell_type": "code",
      "execution_count": 7,
      "metadata": {
        "id": "hMhNx2lBKX2Z",
        "colab": {
          "base_uri": "https://localhost:8080/"
        },
        "outputId": "4bab1fe2-ef9d-41e0-811c-256e0f824bd0"
      },
      "outputs": [
        {
          "output_type": "stream",
          "name": "stdout",
          "text": [
            "Epoch 1/10\n",
            "55/55 [==============================] - 662s 12s/step - loss: 1.8117 - accuracy: 0.2641 - val_loss: 1.4998 - val_accuracy: 0.3240\n",
            "Epoch 2/10\n",
            "55/55 [==============================] - 79s 1s/step - loss: 1.5125 - accuracy: 0.2961 - val_loss: 1.4903 - val_accuracy: 0.2780\n",
            "Epoch 3/10\n",
            "55/55 [==============================] - 73s 1s/step - loss: 1.4695 - accuracy: 0.3246 - val_loss: 1.3821 - val_accuracy: 0.4200\n",
            "Epoch 4/10\n",
            "55/55 [==============================] - 72s 1s/step - loss: 1.2556 - accuracy: 0.4535 - val_loss: 1.1227 - val_accuracy: 0.4880\n",
            "Epoch 5/10\n",
            "55/55 [==============================] - 77s 1s/step - loss: 1.1339 - accuracy: 0.5048 - val_loss: 0.9182 - val_accuracy: 0.6400\n",
            "Epoch 6/10\n",
            "55/55 [==============================] - 75s 1s/step - loss: 0.9164 - accuracy: 0.6058 - val_loss: 0.8348 - val_accuracy: 0.6740\n",
            "Epoch 7/10\n",
            "55/55 [==============================] - 72s 1s/step - loss: 0.9129 - accuracy: 0.6144 - val_loss: 0.8090 - val_accuracy: 0.7080\n",
            "Epoch 8/10\n",
            "55/55 [==============================] - 76s 1s/step - loss: 0.7434 - accuracy: 0.6640 - val_loss: 0.6839 - val_accuracy: 0.8020\n",
            "Epoch 9/10\n",
            "55/55 [==============================] - 72s 1s/step - loss: 0.6664 - accuracy: 0.7079 - val_loss: 0.9823 - val_accuracy: 0.5300\n",
            "Epoch 10/10\n",
            "55/55 [==============================] - 72s 1s/step - loss: 0.7087 - accuracy: 0.7005 - val_loss: 0.9460 - val_accuracy: 0.5580\n"
          ]
        },
        {
          "output_type": "execute_result",
          "data": {
            "text/plain": [
              "<keras.src.callbacks.History at 0x7947274ce620>"
            ]
          },
          "metadata": {},
          "execution_count": 7
        }
      ],
      "source": [
        "# Model Training\n",
        "model.fit(train_generator, epochs=10, validation_data=valid_generator)\n"
      ]
    },
    {
      "cell_type": "code",
      "execution_count": 8,
      "metadata": {
        "id": "6h2uLKB3Kb7i",
        "colab": {
          "base_uri": "https://localhost:8080/"
        },
        "outputId": "0c12851f-4c82-408c-d1fc-b0e0646c3144"
      },
      "outputs": [
        {
          "output_type": "stream",
          "name": "stdout",
          "text": [
            "9/9 [==============================] - 83s 10s/step - loss: 0.9556 - accuracy: 0.5037\n",
            "Test accuracy: 0.503731369972229\n"
          ]
        }
      ],
      "source": [
        "# Model Evaluation\n",
        "test_loss, test_acc = model.evaluate(test_generator)\n",
        "print(f'Test accuracy: {test_acc}')\n"
      ]
    },
    {
      "cell_type": "code",
      "execution_count": null,
      "metadata": {
        "id": "V5Yx9xzCMnTl"
      },
      "outputs": [],
      "source": [
        "import numpy as np"
      ]
    },
    {
      "cell_type": "code",
      "execution_count": 10,
      "metadata": {
        "id": "sTHzI00nKyJ4",
        "colab": {
          "base_uri": "https://localhost:8080/"
        },
        "outputId": "48a13726-7306-4e80-be80-0a207efdd02c"
      },
      "outputs": [
        {
          "output_type": "stream",
          "name": "stdout",
          "text": [
            "9/9 [==============================] - 3s 323ms/step\n"
          ]
        }
      ],
      "source": [
        "# Performance Metrics Calculation\n",
        "y_true = test_generator.classes\n",
        "y_pred = model.predict(test_generator)\n",
        "y_pred = [np.argmax(p) for p in y_pred]\n"
      ]
    },
    {
      "cell_type": "code",
      "execution_count": 11,
      "metadata": {
        "id": "qYxx9_9jK2fw",
        "colab": {
          "base_uri": "https://localhost:8080/"
        },
        "outputId": "16c0ad77-f8c1-409c-b4c5-72c020fb456e"
      },
      "outputs": [
        {
          "output_type": "stream",
          "name": "stdout",
          "text": [
            "Confusion Matrix:\n",
            "[[22  9  9  5  5]\n",
            " [26 14  7 18  3]\n",
            " [20 16  3  9  2]\n",
            " [16 15  6  8  5]\n",
            " [19 11  6  7  7]]\n",
            "Classification Report:\n",
            "              precision    recall  f1-score   support\n",
            "\n",
            "     Stage 0       0.21      0.44      0.29        50\n",
            "     Stage 1       0.22      0.21      0.21        68\n",
            "     Stage 2       0.10      0.06      0.07        50\n",
            "     Stage 3       0.17      0.16      0.16        50\n",
            "     Stage 4       0.32      0.14      0.19        50\n",
            "\n",
            "    accuracy                           0.20       268\n",
            "   macro avg       0.20      0.20      0.19       268\n",
            "weighted avg       0.20      0.20      0.19       268\n",
            "\n"
          ]
        }
      ],
      "source": [
        "print('Confusion Matrix:')\n",
        "print(confusion_matrix(y_true, y_pred))\n",
        "print('Classification Report:')\n",
        "print(classification_report(y_true, y_pred, target_names=['Stage 0', 'Stage 1', 'Stage 2', 'Stage 3', 'Stage 4']))"
      ]
    },
    {
      "cell_type": "code",
      "execution_count": 12,
      "metadata": {
        "id": "Q9fGG_NgNL_j",
        "colab": {
          "base_uri": "https://localhost:8080/",
          "height": 582
        },
        "outputId": "8955f390-bf35-4c29-d6dd-dff3ac6fcf73"
      },
      "outputs": [
        {
          "metadata": {
            "tags": null
          },
          "name": "stdout",
          "output_type": "stream",
          "text": [
            "16/16 [==============================] - 7s 452ms/step\n"
          ]
        },
        {
          "data": {
            "image/png": "[encoded data removed]",
            "text/plain": [
              "<Figure size 800x600 with 2 Axes>"
            ]
          },
          "metadata": {},
          "output_type": "display_data"
        }
      ],
      "source": [
        "import matplotlib.pyplot as plt\n",
        "import seaborn as sns\n",
        "\n",
        "# Define function to plot confusion matrix\n",
        "def plot_confusion_matrix(conf_matrix, labels):\n",
        "    plt.figure(figsize=(8, 6))\n",
        "    sns.heatmap(conf_matrix, annot=True, cmap='Blues', fmt='g', xticklabels=labels, yticklabels=labels)\n",
        "    plt.xlabel('Predicted labels')\n",
        "    plt.ylabel('True labels')\n",
        "    plt.title('Confusion Matrix')\n",
        "    plt.show()\n",
        "\n",
        "# Generate predictions from the deep learning model\n",
        "dl_predictions = model.predict(valid_generator)\n",
        "dl_predictions_classes = np.argmax(dl_predictions, axis=1)\n",
        "\n",
        "# Plot confusion matrix for Deep Learning Model\n",
        "dl_conf_matrix = confusion_matrix(valid_generator.classes, dl_predictions_classes)\n",
        "plot_confusion_matrix(dl_conf_matrix, valid_generator.class_indices.keys())\n"
      ]
    }
  ],
  "metadata": {
    "colab": {
      "provenance": [],
      "mount_file_id": "1Y3SAwonB10ZYy-cgk7WT6YYrFVVSjA3L",
      "authorship_tag": "ABX9TyPfnm8rwJixvpWWk65x11bV",
      "include_colab_link": true
    },
    "kernelspec": {
      "display_name": "Python 3",
      "name": "python3"
    },
    "language_info": {
      "name": "python"
    }
  },
  "nbformat": 4,
  "nbformat_minor": 0
}