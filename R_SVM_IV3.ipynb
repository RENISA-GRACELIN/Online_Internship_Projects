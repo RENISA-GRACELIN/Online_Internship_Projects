{
  "cells": [
    {
      "cell_type": "markdown",
      "metadata": {
        "id": "view-in-github",
        "colab_type": "text"
      },
      "source": [
        "<a href=\"https://colab.research.google.com/github/RENISA-GRACELIN/Online_Internship_Projects/blob/main/R_SVM_IV3.ipynb\" target=\"_parent\"><img src=\"https://colab.research.google.com/assets/colab-badge.svg\" alt=\"Open In Colab\"/></a>"
      ]
    },
    {
      "cell_type": "code",
      "execution_count": 1,
      "metadata": {
        "id": "8CsPlSfOcGo6"
      },
      "outputs": [],
      "source": [
        "# Import necessary libraries\n",
        "import os\n",
        "import numpy as np\n",
        "from keras.applications.inception_v3 import InceptionV3\n",
        "from keras.applications.inception_v3 import InceptionV3, preprocess_input\n",
        "from keras.preprocessing import image\n",
        "import tensorflow as tf\n",
        "from tensorflow.keras import layers\n",
        "from sklearn import svm\n",
        "from sklearn import metrics\n",
        "from sklearn.metrics import classification_report, confusion_matrix\n"
      ]
    },
    {
      "cell_type": "code",
      "execution_count": 2,
      "metadata": {
        "id": "khKik97xejW_",
        "colab": {
          "base_uri": "https://localhost:8080/"
        },
        "outputId": "cbbdf3ed-8c65-48c6-bfe1-0ebb9046ccd0"
      },
      "outputs": [
        {
          "output_type": "stream",
          "name": "stdout",
          "text": [
            "Drive already mounted at /content/drive; to attempt to forcibly remount, call drive.mount(\"/content/drive\", force_remount=True).\n"
          ]
        }
      ],
      "source": [
        "from google.colab import drive\n",
        "drive.mount('/content/drive')\n",
        "\n",
        "# Data directories\n",
        "train_dir = '/content/drive/MyDrive/DR_50/Train'\n",
        "test_dir = '/content/drive/MyDrive/DR_50/Test'\n",
        "valid_dir = '/content/drive/MyDrive/DR_50/Valid'"
      ]
    },
    {
      "cell_type": "code",
      "execution_count": 3,
      "metadata": {
        "id": "He27xXh0e7ml"
      },
      "outputs": [],
      "source": [
        "# Image dimensions\n",
        "img_width, img_height = 300, 300  # Adjust according to your image dimensions\n",
        "batch_size = 32\n",
        "num_epochs = 20"
      ]
    },
    {
      "cell_type": "code",
      "source": [
        "# Load VGG16 model for feature extraction\n",
        "model = InceptionV3(weights='imagenet', include_top=False)"
      ],
      "metadata": {
        "id": "GwMlgOKJ1lRv"
      },
      "execution_count": 4,
      "outputs": []
    },
    {
      "cell_type": "code",
      "execution_count": 5,
      "metadata": {
        "id": "op_VEdhHeUHF"
      },
      "outputs": [],
      "source": [
        "# Function to extract features from an image\n",
        "def extract_features(img_path):\n",
        "    img = image.load_img(img_path, target_size=(224, 224))\n",
        "    img_data = image.img_to_array(img)\n",
        "    img_data = np.expand_dims(img_data, axis=0)\n",
        "    img_data = preprocess_input(img_data)\n",
        "    features = model.predict(img_data)\n",
        "    return features"
      ]
    },
    {
      "cell_type": "code",
      "source": [
        "# Load images and extract features\n",
        "x_train, y_train = [], []\n",
        "for i in range(5):\n",
        "    class_dir = os.path.join(train_dir, str(i))\n",
        "    for img_path in os.listdir(class_dir):\n",
        "        features = extract_features(os.path.join(class_dir, img_path))\n",
        "        x_train.append(features)\n",
        "        y_train.append(i)\n"
      ],
      "metadata": {
        "colab": {
          "base_uri": "https://localhost:8080/"
        },
        "id": "7hpSro-91ryr",
        "outputId": "a8870794-2601-474f-97e0-a5f9968a8513"
      },
      "execution_count": 6,
      "outputs": [
        {
          "output_type": "stream",
          "name": "stdout",
          "text": [
            "1/1 [==============================] - 5s 5s/step\n",
            "1/1 [==============================] - 0s 422ms/step\n",
            "1/1 [==============================] - 0s 429ms/step\n",
            "1/1 [==============================] - 1s 588ms/step\n",
            "1/1 [==============================] - 0s 343ms/step\n",
            "1/1 [==============================] - 0s 290ms/step\n",
            "1/1 [==============================] - 0s 322ms/step\n",
            "1/1 [==============================] - 0s 155ms/step\n",
            "1/1 [==============================] - 0s 156ms/step\n",
            "1/1 [==============================] - 0s 150ms/step\n",
            "1/1 [==============================] - 0s 156ms/step\n",
            "1/1 [==============================] - 0s 143ms/step\n",
            "1/1 [==============================] - 0s 170ms/step\n",
            "1/1 [==============================] - 0s 145ms/step\n",
            "1/1 [==============================] - 0s 157ms/step\n",
            "1/1 [==============================] - 0s 145ms/step\n",
            "1/1 [==============================] - 0s 163ms/step\n",
            "1/1 [==============================] - 0s 149ms/step\n",
            "1/1 [==============================] - 0s 148ms/step\n",
            "1/1 [==============================] - 0s 148ms/step\n",
            "1/1 [==============================] - 0s 141ms/step\n",
            "1/1 [==============================] - 0s 262ms/step\n",
            "1/1 [==============================] - 0s 239ms/step\n",
            "1/1 [==============================] - 0s 274ms/step\n",
            "1/1 [==============================] - 0s 246ms/step\n",
            "1/1 [==============================] - 0s 239ms/step\n",
            "1/1 [==============================] - 0s 148ms/step\n",
            "1/1 [==============================] - 0s 148ms/step\n",
            "1/1 [==============================] - 0s 149ms/step\n",
            "1/1 [==============================] - 0s 158ms/step\n",
            "1/1 [==============================] - 0s 165ms/step\n",
            "1/1 [==============================] - 0s 151ms/step\n",
            "1/1 [==============================] - 0s 154ms/step\n",
            "1/1 [==============================] - 0s 144ms/step\n",
            "1/1 [==============================] - 0s 146ms/step\n",
            "1/1 [==============================] - 0s 144ms/step\n",
            "1/1 [==============================] - 0s 160ms/step\n",
            "1/1 [==============================] - 0s 165ms/step\n",
            "1/1 [==============================] - 0s 165ms/step\n",
            "1/1 [==============================] - 0s 147ms/step\n",
            "1/1 [==============================] - 0s 155ms/step\n",
            "1/1 [==============================] - 0s 155ms/step\n",
            "1/1 [==============================] - 0s 160ms/step\n",
            "1/1 [==============================] - 0s 147ms/step\n",
            "1/1 [==============================] - 0s 184ms/step\n",
            "1/1 [==============================] - 0s 245ms/step\n",
            "1/1 [==============================] - 0s 245ms/step\n",
            "1/1 [==============================] - 0s 253ms/step\n",
            "1/1 [==============================] - 0s 233ms/step\n",
            "1/1 [==============================] - 0s 143ms/step\n",
            "1/1 [==============================] - 0s 144ms/step\n",
            "1/1 [==============================] - 0s 147ms/step\n",
            "1/1 [==============================] - 0s 146ms/step\n",
            "1/1 [==============================] - 0s 167ms/step\n",
            "1/1 [==============================] - 0s 138ms/step\n",
            "1/1 [==============================] - 0s 147ms/step\n",
            "1/1 [==============================] - 0s 142ms/step\n",
            "1/1 [==============================] - 0s 162ms/step\n",
            "1/1 [==============================] - 0s 149ms/step\n",
            "1/1 [==============================] - 0s 152ms/step\n",
            "1/1 [==============================] - 0s 139ms/step\n",
            "1/1 [==============================] - 0s 146ms/step\n",
            "1/1 [==============================] - 0s 143ms/step\n",
            "1/1 [==============================] - 0s 148ms/step\n",
            "1/1 [==============================] - 0s 139ms/step\n",
            "1/1 [==============================] - 0s 145ms/step\n",
            "1/1 [==============================] - 0s 143ms/step\n",
            "1/1 [==============================] - 0s 159ms/step\n",
            "1/1 [==============================] - 0s 148ms/step\n",
            "1/1 [==============================] - 0s 248ms/step\n",
            "1/1 [==============================] - 0s 253ms/step\n",
            "1/1 [==============================] - 0s 257ms/step\n",
            "1/1 [==============================] - 0s 245ms/step\n",
            "1/1 [==============================] - 0s 142ms/step\n",
            "1/1 [==============================] - 0s 140ms/step\n",
            "1/1 [==============================] - 0s 142ms/step\n",
            "1/1 [==============================] - 0s 163ms/step\n",
            "1/1 [==============================] - 0s 156ms/step\n",
            "1/1 [==============================] - 0s 157ms/step\n",
            "1/1 [==============================] - 0s 147ms/step\n",
            "1/1 [==============================] - 0s 144ms/step\n",
            "1/1 [==============================] - 0s 150ms/step\n",
            "1/1 [==============================] - 0s 143ms/step\n",
            "1/1 [==============================] - 0s 143ms/step\n",
            "1/1 [==============================] - 0s 140ms/step\n",
            "1/1 [==============================] - 0s 142ms/step\n",
            "1/1 [==============================] - 0s 151ms/step\n",
            "1/1 [==============================] - 0s 145ms/step\n",
            "1/1 [==============================] - 0s 146ms/step\n",
            "1/1 [==============================] - 0s 149ms/step\n",
            "1/1 [==============================] - 0s 141ms/step\n",
            "1/1 [==============================] - 0s 259ms/step\n",
            "1/1 [==============================] - 0s 239ms/step\n",
            "1/1 [==============================] - 0s 257ms/step\n",
            "1/1 [==============================] - 0s 236ms/step\n",
            "1/1 [==============================] - 0s 137ms/step\n",
            "1/1 [==============================] - 0s 141ms/step\n",
            "1/1 [==============================] - 0s 141ms/step\n",
            "1/1 [==============================] - 0s 178ms/step\n",
            "1/1 [==============================] - 0s 147ms/step\n",
            "1/1 [==============================] - 0s 151ms/step\n",
            "1/1 [==============================] - 0s 143ms/step\n",
            "1/1 [==============================] - 0s 143ms/step\n",
            "1/1 [==============================] - 0s 163ms/step\n",
            "1/1 [==============================] - 0s 142ms/step\n",
            "1/1 [==============================] - 0s 158ms/step\n",
            "1/1 [==============================] - 0s 138ms/step\n",
            "1/1 [==============================] - 0s 143ms/step\n",
            "1/1 [==============================] - 0s 147ms/step\n",
            "1/1 [==============================] - 0s 140ms/step\n",
            "1/1 [==============================] - 0s 136ms/step\n",
            "1/1 [==============================] - 0s 148ms/step\n",
            "1/1 [==============================] - 0s 236ms/step\n",
            "1/1 [==============================] - 0s 245ms/step\n",
            "1/1 [==============================] - 0s 268ms/step\n",
            "1/1 [==============================] - 0s 243ms/step\n",
            "1/1 [==============================] - 0s 157ms/step\n",
            "1/1 [==============================] - 0s 141ms/step\n",
            "1/1 [==============================] - 0s 160ms/step\n",
            "1/1 [==============================] - 0s 144ms/step\n",
            "1/1 [==============================] - 0s 150ms/step\n",
            "1/1 [==============================] - 0s 145ms/step\n",
            "1/1 [==============================] - 0s 144ms/step\n",
            "1/1 [==============================] - 0s 156ms/step\n",
            "1/1 [==============================] - 0s 144ms/step\n",
            "1/1 [==============================] - 0s 159ms/step\n",
            "1/1 [==============================] - 0s 140ms/step\n",
            "1/1 [==============================] - 0s 151ms/step\n",
            "1/1 [==============================] - 0s 152ms/step\n",
            "1/1 [==============================] - 0s 138ms/step\n",
            "1/1 [==============================] - 0s 145ms/step\n",
            "1/1 [==============================] - 0s 138ms/step\n",
            "1/1 [==============================] - 0s 142ms/step\n",
            "1/1 [==============================] - 0s 142ms/step\n",
            "1/1 [==============================] - 0s 261ms/step\n",
            "1/1 [==============================] - 0s 233ms/step\n",
            "1/1 [==============================] - 0s 245ms/step\n",
            "1/1 [==============================] - 0s 239ms/step\n",
            "1/1 [==============================] - 0s 141ms/step\n",
            "1/1 [==============================] - 0s 144ms/step\n",
            "1/1 [==============================] - 0s 137ms/step\n",
            "1/1 [==============================] - 0s 139ms/step\n",
            "1/1 [==============================] - 0s 156ms/step\n",
            "1/1 [==============================] - 0s 139ms/step\n",
            "1/1 [==============================] - 0s 153ms/step\n",
            "1/1 [==============================] - 0s 146ms/step\n",
            "1/1 [==============================] - 0s 160ms/step\n",
            "1/1 [==============================] - 0s 151ms/step\n",
            "1/1 [==============================] - 0s 148ms/step\n",
            "1/1 [==============================] - 0s 144ms/step\n",
            "1/1 [==============================] - 0s 161ms/step\n",
            "1/1 [==============================] - 0s 140ms/step\n",
            "1/1 [==============================] - 0s 144ms/step\n",
            "1/1 [==============================] - 0s 144ms/step\n",
            "1/1 [==============================] - 0s 149ms/step\n",
            "1/1 [==============================] - 0s 144ms/step\n",
            "1/1 [==============================] - 0s 272ms/step\n",
            "1/1 [==============================] - 0s 250ms/step\n",
            "1/1 [==============================] - 0s 260ms/step\n",
            "1/1 [==============================] - 0s 243ms/step\n",
            "1/1 [==============================] - 0s 135ms/step\n",
            "1/1 [==============================] - 0s 154ms/step\n",
            "1/1 [==============================] - 0s 137ms/step\n",
            "1/1 [==============================] - 0s 147ms/step\n",
            "1/1 [==============================] - 0s 142ms/step\n",
            "1/1 [==============================] - 0s 144ms/step\n",
            "1/1 [==============================] - 0s 139ms/step\n",
            "1/1 [==============================] - 0s 148ms/step\n",
            "1/1 [==============================] - 0s 141ms/step\n",
            "1/1 [==============================] - 0s 138ms/step\n",
            "1/1 [==============================] - 0s 154ms/step\n",
            "1/1 [==============================] - 0s 142ms/step\n",
            "1/1 [==============================] - 0s 141ms/step\n",
            "1/1 [==============================] - 0s 147ms/step\n",
            "1/1 [==============================] - 0s 189ms/step\n"
          ]
        }
      ]
    },
    {
      "cell_type": "code",
      "execution_count": 7,
      "metadata": {
        "id": "oLeWAT5KeaXR",
        "colab": {
          "base_uri": "https://localhost:8080/"
        },
        "outputId": "b9115ffa-bb7c-492c-fdf5-9fcd98d525ef"
      },
      "outputs": [
        {
          "output_type": "stream",
          "name": "stdout",
          "text": [
            "1/1 [==============================] - 0s 138ms/step\n",
            "1/1 [==============================] - 0s 143ms/step\n",
            "1/1 [==============================] - 0s 246ms/step\n",
            "1/1 [==============================] - 0s 223ms/step\n",
            "1/1 [==============================] - 0s 255ms/step\n",
            "1/1 [==============================] - 0s 251ms/step\n",
            "1/1 [==============================] - 0s 251ms/step\n",
            "1/1 [==============================] - 0s 144ms/step\n",
            "1/1 [==============================] - 0s 147ms/step\n",
            "1/1 [==============================] - 0s 144ms/step\n",
            "1/1 [==============================] - 0s 142ms/step\n",
            "1/1 [==============================] - 0s 156ms/step\n",
            "1/1 [==============================] - 0s 142ms/step\n",
            "1/1 [==============================] - 0s 138ms/step\n",
            "1/1 [==============================] - 0s 155ms/step\n",
            "1/1 [==============================] - 0s 160ms/step\n",
            "1/1 [==============================] - 0s 143ms/step\n",
            "1/1 [==============================] - 0s 145ms/step\n",
            "1/1 [==============================] - 0s 146ms/step\n",
            "1/1 [==============================] - 0s 138ms/step\n",
            "1/1 [==============================] - 0s 148ms/step\n",
            "1/1 [==============================] - 0s 148ms/step\n",
            "1/1 [==============================] - 0s 139ms/step\n",
            "1/1 [==============================] - 0s 156ms/step\n",
            "1/1 [==============================] - 0s 157ms/step\n"
          ]
        }
      ],
      "source": [
        "# Evaluate on test set\n",
        "test_dir = '/content/drive/MyDrive/DR_50/Test'\n",
        "x_test, y_test = [], []\n",
        "for i in range(5):\n",
        "    class_dir = os.path.join(test_dir, str(i))\n",
        "    for img_path in os.listdir(class_dir):\n",
        "        features = extract_features(os.path.join(class_dir, img_path))\n",
        "        x_test.append(features)\n",
        "        y_test.append(i)\n"
      ]
    },
    {
      "cell_type": "code",
      "source": [
        "# Flatten the features\n",
        "x_train_flat = np.array([feature.flatten() for feature in x_train])\n",
        "x_test_flat = np.array([feature.flatten() for feature in x_test])\n",
        "\n",
        "# List of kernels to try\n",
        "kernels = ['linear', 'poly', 'rbf', 'sigmoid']\n",
        "\n",
        "for kernel in kernels:\n",
        "    print(f\"Training SVM with {kernel} kernel...\")\n",
        "\n",
        "    # Train SVM classifier\n",
        "    clf = svm.SVC(kernel=kernel)\n",
        "    clf.fit(x_train_flat, y_train)\n",
        "\n",
        "    # Predict on test set\n",
        "    y_pred = clf.predict(x_test_flat)\n",
        "\n",
        "\n",
        "    # Predict on test set\n",
        "    y_pred = clf.predict(x_test_flat)\n",
        "\n",
        "    # Print performance metrics\n",
        "    print(f'Performance metrics for {kernel} kernel:')\n",
        "    print('Classification Report:')\n",
        "    print(metrics.classification_report(y_test, y_pred))\n",
        "\n",
        "    # Additional performance metrics\n",
        "    accuracy = metrics.accuracy_score(y_test, y_pred)\n",
        "    sensitivity = metrics.recall_score(y_test, y_pred, average='macro')\n",
        "    precision = metrics.precision_score(y_test, y_pred, average='macro')\n",
        "    f1 = metrics.f1_score(y_test, y_pred, average='macro')\n",
        "\n",
        "    print(f'Accuracy: {accuracy}')\n",
        "    print(f'Sensitivity: {sensitivity}')\n",
        "    print(f'Precision: {precision}')\n",
        "    print(f'F1 Score: {f1}\\n')\n"
      ],
      "metadata": {
        "colab": {
          "base_uri": "https://localhost:8080/"
        },
        "id": "VhYVEkZa1zSq",
        "outputId": "5663eeb5-487d-46e2-8417-5e18134e6295"
      },
      "execution_count": 8,
      "outputs": [
        {
          "output_type": "stream",
          "name": "stdout",
          "text": [
            "Training SVM with linear kernel...\n",
            "Performance metrics for linear kernel:\n",
            "Classification Report:\n",
            "              precision    recall  f1-score   support\n",
            "\n",
            "           0       0.50      0.60      0.55         5\n",
            "           1       1.00      0.60      0.75         5\n",
            "           2       0.67      0.80      0.73         5\n",
            "           3       0.75      0.60      0.67         5\n",
            "           4       0.83      1.00      0.91         5\n",
            "\n",
            "    accuracy                           0.72        25\n",
            "   macro avg       0.75      0.72      0.72        25\n",
            "weighted avg       0.75      0.72      0.72        25\n",
            "\n",
            "Accuracy: 0.72\n",
            "Sensitivity: 0.72\n",
            "Precision: 0.75\n",
            "F1 Score: 0.7196969696969696\n",
            "\n",
            "Training SVM with poly kernel...\n",
            "Performance metrics for poly kernel:\n",
            "Classification Report:\n",
            "              precision    recall  f1-score   support\n",
            "\n",
            "           0       0.50      0.60      0.55         5\n",
            "           1       1.00      0.60      0.75         5\n",
            "           2       0.75      0.60      0.67         5\n",
            "           3       0.50      0.60      0.55         5\n",
            "           4       0.83      1.00      0.91         5\n",
            "\n",
            "    accuracy                           0.68        25\n",
            "   macro avg       0.72      0.68      0.68        25\n",
            "weighted avg       0.72      0.68      0.68        25\n",
            "\n",
            "Accuracy: 0.68\n",
            "Sensitivity: 0.6799999999999999\n",
            "Precision: 0.7166666666666667\n",
            "F1 Score: 0.6833333333333333\n",
            "\n",
            "Training SVM with rbf kernel...\n",
            "Performance metrics for rbf kernel:\n",
            "Classification Report:\n",
            "              precision    recall  f1-score   support\n",
            "\n",
            "           0       0.50      0.60      0.55         5\n",
            "           1       0.75      0.60      0.67         5\n",
            "           2       1.00      0.60      0.75         5\n",
            "           3       0.50      0.60      0.55         5\n",
            "           4       0.83      1.00      0.91         5\n",
            "\n",
            "    accuracy                           0.68        25\n",
            "   macro avg       0.72      0.68      0.68        25\n",
            "weighted avg       0.72      0.68      0.68        25\n",
            "\n",
            "Accuracy: 0.68\n",
            "Sensitivity: 0.6799999999999999\n",
            "Precision: 0.7166666666666667\n",
            "F1 Score: 0.6833333333333333\n",
            "\n",
            "Training SVM with sigmoid kernel...\n",
            "Performance metrics for sigmoid kernel:\n",
            "Classification Report:\n",
            "              precision    recall  f1-score   support\n",
            "\n",
            "           0       0.43      0.60      0.50         5\n",
            "           1       0.75      0.60      0.67         5\n",
            "           2       0.67      0.40      0.50         5\n",
            "           3       0.60      0.60      0.60         5\n",
            "           4       0.83      1.00      0.91         5\n",
            "\n",
            "    accuracy                           0.64        25\n",
            "   macro avg       0.66      0.64      0.64        25\n",
            "weighted avg       0.66      0.64      0.64        25\n",
            "\n",
            "Accuracy: 0.64\n",
            "Sensitivity: 0.64\n",
            "Precision: 0.6557142857142858\n",
            "F1 Score: 0.6351515151515151\n",
            "\n"
          ]
        }
      ]
    },
    {
      "cell_type": "code",
      "execution_count": 9,
      "metadata": {
        "id": "u6XtprfvfBNc",
        "colab": {
          "base_uri": "https://localhost:8080/"
        },
        "outputId": "6f04387d-6856-4810-85fb-68c50e8a25a0"
      },
      "outputs": [
        {
          "output_type": "stream",
          "name": "stdout",
          "text": [
            "Classification Report:\n",
            "              precision    recall  f1-score   support\n",
            "\n",
            "           0       0.43      0.60      0.50         5\n",
            "           1       0.75      0.60      0.67         5\n",
            "           2       0.67      0.40      0.50         5\n",
            "           3       0.60      0.60      0.60         5\n",
            "           4       0.83      1.00      0.91         5\n",
            "\n",
            "    accuracy                           0.64        25\n",
            "   macro avg       0.66      0.64      0.64        25\n",
            "weighted avg       0.66      0.64      0.64        25\n",
            "\n",
            "Confusion Matrix:\n",
            "[[3 0 1 1 0]\n",
            " [1 3 0 1 0]\n",
            " [2 0 2 0 1]\n",
            " [1 1 0 3 0]\n",
            " [0 0 0 0 5]]\n"
          ]
        }
      ],
      "source": [
        "# Print performance metrics\n",
        "print('Classification Report:')\n",
        "print(classification_report(y_test, y_pred))\n",
        "print('Confusion Matrix:')\n",
        "print(confusion_matrix(y_test, y_pred))"
      ]
    },
    {
      "cell_type": "code",
      "source": [
        " # Print performance metrics\n",
        "print(f'Performance metrics for {kernel} kernel:')\n",
        "print('Classification Report:')\n",
        "print(metrics.classification_report(y_test, y_pred))\n",
        "\n",
        "from sklearn.preprocessing import LabelBinarizer\n",
        "\n",
        "# Convert y_test and y_pred to binary/multilabel indicator format\n",
        "lb = LabelBinarizer()\n",
        "y_test_bin = lb.fit_transform(y_test)\n",
        "y_pred_bin = lb.transform(y_pred)\n",
        "\n",
        "# Now you can calculate the AUC\n",
        "auc = metrics.roc_auc_score(y_test_bin, y_pred_bin,\n",
        "                            multi_class='ovr')\n",
        "\n",
        "# Additional performance metrics\n",
        "accuracy = metrics.accuracy_score(y_test, y_pred)\n",
        "sensitivity = metrics.recall_score(y_test, y_pred, average='macro')\n",
        "precision = metrics.precision_score(y_test, y_pred, average='macro')\n",
        "f1 = metrics.f1_score(y_test, y_pred, average='macro')\n",
        "\n",
        "print(f'Accuracy: {accuracy}')\n",
        "print(f'AUC: {auc}')\n",
        "print(f'Sensitivity: {sensitivity}')\n",
        "print(f'Precision: {precision}')\n",
        "print(f'F1 Score: {f1}\\n')"
      ],
      "metadata": {
        "colab": {
          "base_uri": "https://localhost:8080/"
        },
        "id": "AOvSWfCm3s93",
        "outputId": "86cb65a6-af2f-4a07-fc35-51980eeaf2eb"
      },
      "execution_count": 11,
      "outputs": [
        {
          "output_type": "stream",
          "name": "stdout",
          "text": [
            "Performance metrics for sigmoid kernel:\n",
            "Classification Report:\n",
            "              precision    recall  f1-score   support\n",
            "\n",
            "           0       0.43      0.60      0.50         5\n",
            "           1       0.75      0.60      0.67         5\n",
            "           2       0.67      0.40      0.50         5\n",
            "           3       0.60      0.60      0.60         5\n",
            "           4       0.83      1.00      0.91         5\n",
            "\n",
            "    accuracy                           0.64        25\n",
            "   macro avg       0.66      0.64      0.64        25\n",
            "weighted avg       0.66      0.64      0.64        25\n",
            "\n",
            "Accuracy: 0.64\n",
            "AUC: 0.775\n",
            "Sensitivity: 0.64\n",
            "Precision: 0.6557142857142858\n",
            "F1 Score: 0.6351515151515151\n",
            "\n"
          ]
        }
      ]
    }
  ],
  "metadata": {
    "colab": {
      "provenance": [],
      "mount_file_id": "1WMJiBo_JpU8LCi8cSBEbfY4IgJin9ncF",
      "authorship_tag": "ABX9TyO2VNHRwJu3M8q7nlYfFJg5",
      "include_colab_link": true
    },
    "kernelspec": {
      "display_name": "Python 3",
      "name": "python3"
    },
    "language_info": {
      "name": "python"
    }
  },
  "nbformat": 4,
  "nbformat_minor": 0
}