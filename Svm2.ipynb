{
  "cells": [
    {
      "cell_type": "markdown",
      "metadata": {
        "id": "view-in-github",
        "colab_type": "text"
      },
      "source": [
        "<a href=\"https://colab.research.google.com/github/RENISA-GRACELIN/Online_Internship_Projects/blob/main/Svm2.ipynb\" target=\"_parent\"><img src=\"https://colab.research.google.com/assets/colab-badge.svg\" alt=\"Open In Colab\"/></a>"
      ]
    },
    {
      "cell_type": "code",
      "execution_count": null,
      "metadata": {
        "colab": {
          "base_uri": "https://localhost:8080/"
        },
        "id": "d1Mg_xKrrzUi",
        "outputId": "f4bc9261-6c14-411a-ecf8-6606f8dd2e1f"
      },
      "outputs": [
        {
          "output_type": "stream",
          "name": "stdout",
          "text": [
            "Found 1750 images belonging to 5 classes.\n",
            "Found 500 images belonging to 5 classes.\n",
            "Found 250 images belonging to 5 classes.\n",
            "Downloading data from https://storage.googleapis.com/keras-applications/efficientnetb0_notop.h5\n",
            "16705208/16705208 [==============================] - 0s 0us/step\n",
            " 45/219 [=====>........................] - ETA: 2:06"
          ]
        }
      ],
      "source": [
        "import os\n",
        "import numpy as np\n",
        "from tensorflow.keras.preprocessing.image import ImageDataGenerator\n",
        "from tensorflow.keras.applications import EfficientNetB0\n",
        "from tensorflow.keras.models import Model\n",
        "from sklearn import svm\n",
        "from sklearn.metrics import classification_report, confusion_matrix\n",
        "\n",
        "# Load the data\n",
        "train_dir = '/content/drive/MyDrive/DR/Train'\n",
        "test_dir = '/content/drive/MyDrive/DR/Test'\n",
        "valid_dir = '/content/drive/MyDrive/DR/Valid'\n",
        "\n",
        "train_datagen = ImageDataGenerator(horizontal_flip=True, vertical_flip=True, zoom_range=0.2, brightness_range=[0.2,1.0])\n",
        "test_datagen = ImageDataGenerator(rescale=1./255)\n",
        "\n",
        "train_set = train_datagen.flow_from_directory(train_dir, target_size=(224, 224), batch_size=8, class_mode='categorical', shuffle=False)\n",
        "valid_set = test_datagen.flow_from_directory(valid_dir, target_size=(224, 224), batch_size=8, class_mode='categorical', shuffle=False)\n",
        "test_set = test_datagen.flow_from_directory(test_dir,target_size=(224, 224),batch_size=8,class_mode='categorical',shuffle=False\n",
        ")\n",
        "# Load the pre-trained model\n",
        "base_model = EfficientNetB0(weights='imagenet', include_top=False, input_shape=(224, 224, 3))\n",
        "\n",
        "# Make a new model that outputs the features from the pre-trained model\n",
        "feature_extractor = Model(inputs=base_model.input, outputs=base_model.output)\n",
        "\n",
        "# Extract features from the images\n",
        "train_features = feature_extractor.predict(train_set)\n",
        "valid_features = feature_extractor.predict(valid_set)\n",
        "test_features = feature_extractor.predict(test_set)\n"
      ]
    },
    {
      "cell_type": "code",
      "execution_count": null,
      "metadata": {
        "colab": {
          "background_save": true,
          "base_uri": "https://localhost:8080/"
        },
        "id": "i9qpuXS11aNA",
        "outputId": "cf3a8c21-5052-43c8-9903-0a6039d34b08"
      },
      "outputs": [
        {
          "name": "stdout",
          "output_type": "stream",
          "text": [
            "Fitting 5 folds for each of 24 candidates, totalling 120 fits\n",
            "[CV] END ...svm__C=0.1, svm__gamma=scale, svm__kernel=linear; total time= 3.3min\n",
            "[CV] END ...svm__C=0.1, svm__gamma=scale, svm__kernel=linear; total time= 3.3min\n",
            "[CV] END ...svm__C=0.1, svm__gamma=scale, svm__kernel=linear; total time= 3.1min\n",
            "[CV] END ...svm__C=0.1, svm__gamma=scale, svm__kernel=linear; total time= 3.2min\n",
            "[CV] END ...svm__C=0.1, svm__gamma=scale, svm__kernel=linear; total time= 3.2min\n",
            "[CV] END .....svm__C=0.1, svm__gamma=scale, svm__kernel=poly; total time= 3.4min\n",
            "[CV] END .....svm__C=0.1, svm__gamma=scale, svm__kernel=poly; total time= 3.3min\n",
            "[CV] END .....svm__C=0.1, svm__gamma=scale, svm__kernel=poly; total time= 3.3min\n",
            "[CV] END .....svm__C=0.1, svm__gamma=scale, svm__kernel=poly; total time= 3.3min\n",
            "[CV] END .....svm__C=0.1, svm__gamma=scale, svm__kernel=poly; total time= 3.4min\n",
            "[CV] END ......svm__C=0.1, svm__gamma=scale, svm__kernel=rbf; total time= 3.9min\n",
            "[CV] END ......svm__C=0.1, svm__gamma=scale, svm__kernel=rbf; total time= 3.9min\n",
            "[CV] END ......svm__C=0.1, svm__gamma=scale, svm__kernel=rbf; total time= 3.8min\n",
            "[CV] END ......svm__C=0.1, svm__gamma=scale, svm__kernel=rbf; total time= 3.9min\n",
            "[CV] END ......svm__C=0.1, svm__gamma=scale, svm__kernel=rbf; total time= 3.8min\n",
            "[CV] END ....svm__C=0.1, svm__gamma=auto, svm__kernel=linear; total time= 3.1min\n",
            "[CV] END ....svm__C=0.1, svm__gamma=auto, svm__kernel=linear; total time= 3.0min\n",
            "[CV] END ....svm__C=0.1, svm__gamma=auto, svm__kernel=linear; total time= 3.0min\n",
            "[CV] END ....svm__C=0.1, svm__gamma=auto, svm__kernel=linear; total time= 3.1min\n",
            "[CV] END ....svm__C=0.1, svm__gamma=auto, svm__kernel=linear; total time= 3.2min\n",
            "[CV] END ......svm__C=0.1, svm__gamma=auto, svm__kernel=poly; total time= 3.2min\n",
            "[CV] END ......svm__C=0.1, svm__gamma=auto, svm__kernel=poly; total time= 3.3min\n",
            "[CV] END ......svm__C=0.1, svm__gamma=auto, svm__kernel=poly; total time= 3.3min\n",
            "[CV] END ......svm__C=0.1, svm__gamma=auto, svm__kernel=poly; total time= 3.3min\n",
            "[CV] END ......svm__C=0.1, svm__gamma=auto, svm__kernel=poly; total time= 3.3min\n",
            "[CV] END .......svm__C=0.1, svm__gamma=auto, svm__kernel=rbf; total time= 3.7min\n"
          ]
        }
      ],
      "source": [
        "from sklearn.svm import SVC\n",
        "from sklearn.model_selection import GridSearchCV\n",
        "from sklearn.pipeline import Pipeline\n",
        "from sklearn.preprocessing import StandardScaler\n",
        "from sklearn.metrics import classification_report\n",
        "\n",
        "# Define a pipeline with feature scaling and SVM classifier\n",
        "svm_pipeline = Pipeline([\n",
        "    ('scaler', StandardScaler()),  # Scale features to have mean=0 and variance=1\n",
        "    ('svm', SVC())  # SVM classifier\n",
        "])\n",
        "\n",
        "# Define the hyperparameters grid to search\n",
        "param_grid = {\n",
        "    'svm__C': [0.1, 1, 10, 100],  # Regularization parameter\n",
        "    'svm__kernel': ['linear', 'poly', 'rbf'],  # Kernel type\n",
        "    'svm__gamma': ['scale', 'auto']  # Kernel coefficient for 'rbf' and 'poly'\n",
        "}\n",
        "\n",
        "# Perform grid search with cross-validation\n",
        "grid_search = GridSearchCV(svm_pipeline, param_grid, cv=5, verbose=2)\n",
        "grid_search.fit(train_features_flat, train_labels)\n",
        "\n",
        "# Get the best parameters\n",
        "best_params = grid_search.best_params_\n",
        "print(\"Best Parameters:\", best_params)\n",
        "\n",
        "# Evaluate the model on the test set\n",
        "y_pred = grid_search.predict(test_features_flat)\n",
        "\n",
        "# Generate classification report\n",
        "report = classification_report(test_labels, y_pred)\n",
        "print(\"Classification Report:\\n\", report)\n"
      ]
    },
    {
      "cell_type": "code",
      "execution_count": null,
      "metadata": {
        "colab": {
          "base_uri": "https://localhost:8080/"
        },
        "id": "-CX-IoF7x_qP",
        "outputId": "6efbce38-3122-4800-ed89-cba7676f6d43"
      },
      "outputs": [
        {
          "name": "stdout",
          "output_type": "stream",
          "text": [
            "SVM Classification Report:\n",
            "              precision    recall  f1-score   support\n",
            "\n",
            "           0       0.00      0.00      0.00        50\n",
            "           1       0.00      0.00      0.00        50\n",
            "           2       0.00      0.00      0.00        50\n",
            "           3       0.00      0.00      0.00        50\n",
            "           4       0.20      1.00      0.33        50\n",
            "\n",
            "    accuracy                           0.20       250\n",
            "   macro avg       0.04      0.20      0.07       250\n",
            "weighted avg       0.04      0.20      0.07       250\n",
            "\n"
          ]
        },
        {
          "name": "stderr",
          "output_type": "stream",
          "text": [
            "/usr/local/lib/python3.10/dist-packages/sklearn/metrics/_classification.py:1344: UndefinedMetricWarning: Precision and F-score are ill-defined and being set to 0.0 in labels with no predicted samples. Use `zero_division` parameter to control this behavior.\n",
            "  _warn_prf(average, modifier, msg_start, len(result))\n",
            "/usr/local/lib/python3.10/dist-packages/sklearn/metrics/_classification.py:1344: UndefinedMetricWarning: Precision and F-score are ill-defined and being set to 0.0 in labels with no predicted samples. Use `zero_division` parameter to control this behavior.\n",
            "  _warn_prf(average, modifier, msg_start, len(result))\n",
            "/usr/local/lib/python3.10/dist-packages/sklearn/metrics/_classification.py:1344: UndefinedMetricWarning: Precision and F-score are ill-defined and being set to 0.0 in labels with no predicted samples. Use `zero_division` parameter to control this behavior.\n",
            "  _warn_prf(average, modifier, msg_start, len(result))\n"
          ]
        }
      ],
      "source": [
        "\n",
        "# Flatten the features for use with the classifiers\n",
        "train_features_flat = np.reshape(train_features, (train_features.shape[0], -1))\n",
        "valid_features_flat = np.reshape(valid_features, (valid_features.shape[0], -1))\n",
        "test_features_flat = np.reshape(test_features, (test_features.shape[0], -1))\n",
        "\n",
        "# Get the labels\n",
        "train_labels = train_set.classes\n",
        "valid_labels = valid_set.classes\n",
        "test_labels = test_set.classes\n",
        "\n",
        "# SVM\n",
        "svm_classifier = svm.SVC()\n",
        "svm_classifier.fit(train_features_flat, train_labels)\n",
        "svm_predictions = svm_classifier.predict(test_features_flat)\n",
        "\n",
        "# Print classification report\n",
        "print(\"SVM Classification Report:\")\n",
        "print(classification_report(test_labels, svm_predictions))\n"
      ]
    },
    {
      "cell_type": "code",
      "execution_count": null,
      "metadata": {
        "colab": {
          "base_uri": "https://localhost:8080/"
        },
        "id": "3quJYhTQzxvb",
        "outputId": "bd0f912e-d3ce-4066-81e8-23752d88a9e2"
      },
      "outputs": [
        {
          "name": "stdout",
          "output_type": "stream",
          "text": [
            "KNN Classification Report:\n",
            "              precision    recall  f1-score   support\n",
            "\n",
            "           0       0.00      0.00      0.00        50\n",
            "           1       0.00      0.00      0.00        50\n",
            "           2       0.00      0.00      0.00        50\n",
            "           3       0.00      0.00      0.00        50\n",
            "           4       0.20      1.00      0.33        50\n",
            "\n",
            "    accuracy                           0.20       250\n",
            "   macro avg       0.04      0.20      0.07       250\n",
            "weighted avg       0.04      0.20      0.07       250\n",
            "\n"
          ]
        },
        {
          "name": "stderr",
          "output_type": "stream",
          "text": [
            "/usr/local/lib/python3.10/dist-packages/sklearn/metrics/_classification.py:1344: UndefinedMetricWarning: Precision and F-score are ill-defined and being set to 0.0 in labels with no predicted samples. Use `zero_division` parameter to control this behavior.\n",
            "  _warn_prf(average, modifier, msg_start, len(result))\n",
            "/usr/local/lib/python3.10/dist-packages/sklearn/metrics/_classification.py:1344: UndefinedMetricWarning: Precision and F-score are ill-defined and being set to 0.0 in labels with no predicted samples. Use `zero_division` parameter to control this behavior.\n",
            "  _warn_prf(average, modifier, msg_start, len(result))\n",
            "/usr/local/lib/python3.10/dist-packages/sklearn/metrics/_classification.py:1344: UndefinedMetricWarning: Precision and F-score are ill-defined and being set to 0.0 in labels with no predicted samples. Use `zero_division` parameter to control this behavior.\n",
            "  _warn_prf(average, modifier, msg_start, len(result))\n"
          ]
        }
      ],
      "source": [
        "# KNN\n",
        "from sklearn.neighbors import KNeighborsClassifier\n",
        "knn_classifier = KNeighborsClassifier(n_neighbors=3)\n",
        "knn_classifier.fit(train_features_flat, train_labels)\n",
        "knn_predictions = knn_classifier.predict(test_features_flat)\n",
        "\n",
        "print('KNN Classification Report:')\n",
        "print(classification_report(test_labels, knn_predictions))"
      ]
    },
    {
      "cell_type": "code",
      "execution_count": null,
      "metadata": {
        "id": "4NGcrAKm0t-_"
      },
      "outputs": [],
      "source": []
    }
  ],
  "metadata": {
    "colab": {
      "provenance": [],
      "mount_file_id": "1ArdU2lwAs8RkePKSuQIydd1LUh8fsVE-",
      "authorship_tag": "ABX9TyMwwjOxNy+zPZPSamhBP/5l",
      "include_colab_link": true
    },
    "kernelspec": {
      "display_name": "Python 3",
      "name": "python3"
    },
    "language_info": {
      "name": "python"
    }
  },
  "nbformat": 4,
  "nbformat_minor": 0
}